{
  "cells": [
    {
      "cell_type": "code",
      "execution_count": null,
      "metadata": {
        "id": "snLxQY6jNFJ-"
      },
      "outputs": [],
      "source": [
        "!pip install llama-cpp-python"
      ]
    },
    {
      "cell_type": "code",
      "execution_count": null,
      "metadata": {
        "id": "Wzf1gPvENMtl"
      },
      "outputs": [],
      "source": [
        "from llama_cpp import Llama"
      ]
    },
    {
      "cell_type": "code",
      "execution_count": null,
      "metadata": {
        "id": "kYBEY4CFPQl3"
      },
      "outputs": [],
      "source": [
        "!huggingface-cli download YorkieOH10/Meta-Llama-3.1-8B-Instruct-Q8_0-GGUF --include \"meta-llama-3.1-8b-instruct-q8_0.gguf\" --local-dir ./"
      ]
    },
    {
      "cell_type": "code",
      "execution_count": null,
      "metadata": {
        "id": "LgbEoL0vOIfP"
      },
      "outputs": [],
      "source": [
        "model = Llama(model_path=\"/content/meta-llama-3.1-8b-instruct-q8_0.gguf\",  n_ctx=2048, n_gpu_layers=-1)"
      ]
    },
    {
      "cell_type": "code",
      "execution_count": null,
      "metadata": {
        "id": "yWMbjUV7Zzy6"
      },
      "outputs": [],
      "source": [
        "prompt = \"\"\"\n",
        "\n",
        "    Given the below Text. Perform Named Entity Recognition (NER) and extract knowledge graph triplets from the text. Identify relevant entity types and predicates based on the content of the text.\n",
        "\n",
        "        **Instructions:**\n",
        "        1. Identify relevant entity types present in the text.\n",
        "        2. Identify relevant predicates (relationships) between entities in the text.\n",
        "        3. Extract triplets (subject-predicate-object) based on the identified entities and predicates.\n",
        "\n",
        "\n",
        "        **Text:**\n",
        "    \"Joseph Robinette Biden Jr. (/ˈbaɪdən/; born November 20, 1942) is an American politician who is the 46th and current president of the United States.\n",
        "    A member of the Democratic Party, he previously served as the 47th vice president from 2009 to 2017 under President Barack Obama, and represented Delaware in the United States Senate from 1973 to 2009.\n",
        "    Biden was born and raised in Scranton, Pennsylvania, and moved with his family to Delaware in 1953 when he was ten years old.\n",
        "    He studied at the University of Delaware before earning his law degree from Syracuse University.\n",
        "    He was elected to the New Castle County Council in 1970 and became the sixth-youngest senator in U.S. history after he was elected to the United States Senate from Delaware in 1972, at age 29.\n",
        "    Biden was the chair or ranking member of the Senate Foreign Relations Committee for 12 years.\n",
        "    He also chaired the Senate Judiciary Committee from 1987 to 1995; led the effort to pass the Violent Crime Control and Law Enforcement Act and the Violence Against Women Act; and oversaw six U.S. Supreme Court confirmation hearings, including the contentious hearings for Robert Bork and Clarence Thomas.\n",
        "    Biden ran unsuccessfully for the Democratic presidential nomination in 1988 and 2008, before becoming Obama's vice president after they won the 2008 presidential election.\n",
        "    During his two terms as vice president, Biden frequently represented the administration in negotiations with congressional Republicans and was a close counselor to President Obama.\n",
        "    Biden and his running mate, Kamala Harris, defeated incumbent Donald Trump in the 2020 presidential election.\n",
        "    Upon inauguration, he became the oldest president in U.S. history and the first to have a female vice president.\n",
        "    Biden signed the American Rescue Plan Act to help the U.S. recover from the COVID-19 pandemic and subsequent recession.\n",
        "    He proposed the American Jobs Plan, aspects of which were incorporated into the bipartisan Infrastructure Investment and Jobs Act.\n",
        "    He proposed the American Families Plan, which was merged with other aspects of the American Jobs Plan into the proposed Build Back Better Act.\n",
        "    After facing opposition in the Senate, the Build Back Better Act's size was reduced and it was comprehensively reworked into the Inflation Reduction Act of 2022, covering deficit reduction, climate change, healthcare, and tax reform.\n",
        "    Biden appointed Ketanji Brown Jackson to the Supreme Court. In foreign policy, he restored the U.S. into the Paris Agreement on climate change.\n",
        "    He completed the withdrawal of U.S. troops from Afghanistan, during which the Afghan government collapsed and the Taliban seized control.\n",
        "    He responded to the 2022 Russian invasion of Ukraine by imposing sanctions on Russia and authorizing foreign aid and weapons shipments to Ukraine. (en)\"\n",
        "\n",
        "\"\"\""
      ]
    },
    {
      "cell_type": "code",
      "execution_count": null,
      "metadata": {
        "colab": {
          "base_uri": "https://localhost:8080/"
        },
        "id": "qe-mfxO35PKm",
        "outputId": "8d535ef4-978f-49df-b61a-8f4d3d369611"
      },
      "outputs": [
        {
          "name": "stdout",
          "output_type": "stream",
          "text": [
            "Prompt token count: 687\n",
            "Max new tokens: 256\n"
          ]
        }
      ],
      "source": [
        "prompt_tokens = model.tokenize(prompt.encode('utf-8'))\n",
        "\n",
        "max_total_tokens = 2048\n",
        "max_new_tokens = 256\n",
        "remaining_tokens = max_total_tokens - len(prompt_tokens)\n",
        "max_new_tokens = min(max_new_tokens, remaining_tokens)\n",
        "\n",
        "print(f\"Prompt token count: {len(prompt_tokens)}\")\n",
        "print(f\"Max new tokens: {max_new_tokens}\")"
      ]
    },
    {
      "cell_type": "code",
      "execution_count": null,
      "metadata": {
        "id": "xuu3tROqg9qv"
      },
      "outputs": [],
      "source": [
        "# response = model(\n",
        "#     prompt_tokens,\n",
        "#     max_tokens=256,\n",
        "#     echo=False,\n",
        "#     temperature=0.7\n",
        "# )"
      ]
    },
    {
      "cell_type": "code",
      "execution_count": null,
      "metadata": {
        "colab": {
          "base_uri": "https://localhost:8080/"
        },
        "id": "AL5R62hMhGki",
        "outputId": "0597b453-cebd-4d84-a732-41eed8f297c6"
      },
      "outputs": [
        {
          "name": "stdout",
          "output_type": "stream",
          "text": [
            "**Step 1: Identify relevant entity types present in the text.**\n",
            "\n",
            "Based on the content of the text, the following entity types can be identified:\n",
            "\n",
            "* Person: Joseph Robinette Biden Jr., Barack Obama, Kamala Harris, Robert Bork, Clarence Thomas, Ketanji Brown Jackson, Donald Trump\n",
            "* Location: United States, Delaware, Scranton, Pennsylvania, New Castle County, Syracuse University, University of Delaware\n",
            "* Organization: Democratic Party, Senate Foreign Relations Committee, Senate Judiciary Committee, U.S. Supreme Court, U.S. Senate\n",
            "* Event: 2020 presidential election, 2008 presidential election, U.S. Supreme Court confirmation hearings\n",
            "* Date: November 20, 1942, 1953, 1970, 1972, 1973, 2008, 2009, 2017, 2020, 2022\n",
            "* Law: Violent Crime Control and Law Enforcement Act, Violence Against Women Act, American Rescue Plan Act, American Jobs Plan, American Families Plan, Build Back Better Act, Inflation Reduction Act of 2022, Paris Agreement\n",
            "\n",
            "**Step 2: Identify relevant predicates (relationships) between entities in the text.**\n",
            "\n",
            "Based on the content of the text,\n"
          ]
        }
      ],
      "source": [
        "print(response['choices'][0]['text'])"
      ]
    },
    {
      "cell_type": "code",
      "execution_count": null,
      "metadata": {
        "id": "z14c2e9mfPqM"
      },
      "outputs": [],
      "source": []
    },
    {
      "cell_type": "code",
      "execution_count": null,
      "metadata": {
        "id": "cj5r8xgCV-L3"
      },
      "outputs": [],
      "source": [
        "prompt = \"\"\"\n",
        "\n",
        "    Perform Named Entity Recognition (NER) and extract knowledge graph triplets from the given text, identifying relevant entity type and predicates. Provide the extracted entities and their types, as well as triplets in the format (Subject-Predicate-Object).\n",
        "\n",
        "        **Text:**\n",
        "    \"Joseph Robinette Biden Jr. (/ˈbaɪdən/; born November 20, 1942) is an American politician who is the 46th and current president of the United States.\n",
        "    A member of the Democratic Party, he previously served as the 47th vice president from 2009 to 2017 under President Barack Obama, and represented Delaware in the United States Senate from 1973 to 2009.\n",
        "    Biden was born and raised in Scranton, Pennsylvania, and moved with his family to Delaware in 1953 when he was ten years old.\n",
        "    He studied at the University of Delaware before earning his law degree from Syracuse University.\n",
        "    He was elected to the New Castle County Council in 1970 and became the sixth-youngest senator in U.S. history after he was elected to the United States Senate from Delaware in 1972, at age 29.\n",
        "    Biden was the chair or ranking member of the Senate Foreign Relations Committee for 12 years.\n",
        "    He also chaired the Senate Judiciary Committee from 1987 to 1995; led the effort to pass the Violent Crime Control and Law Enforcement Act and the Violence Against Women Act; and oversaw six U.S. Supreme Court confirmation hearings, including the contentious hearings for Robert Bork and Clarence Thomas.\n",
        "    Biden ran unsuccessfully for the Democratic presidential nomination in 1988 and 2008, before becoming Obama's vice president after they won the 2008 presidential election.\n",
        "    During his two terms as vice president, Biden frequently represented the administration in negotiations with congressional Republicans and was a close counselor to President Obama.\n",
        "    Biden and his running mate, Kamala Harris, defeated incumbent Donald Trump in the 2020 presidential election.\n",
        "    Upon inauguration, he became the oldest president in U.S. history and the first to have a female vice president.\n",
        "    Biden signed the American Rescue Plan Act to help the U.S. recover from the COVID-19 pandemic and subsequent recession.\n",
        "    He proposed the American Jobs Plan, aspects of which were incorporated into the bipartisan Infrastructure Investment and Jobs Act.\n",
        "    He proposed the American Families Plan, which was merged with other aspects of the American Jobs Plan into the proposed Build Back Better Act.\n",
        "    After facing opposition in the Senate, the Build Back Better Act's size was reduced and it was comprehensively reworked into the Inflation Reduction Act of 2022, covering deficit reduction, climate change, healthcare, and tax reform.\n",
        "    Biden appointed Ketanji Brown Jackson to the Supreme Court. In foreign policy, he restored the U.S. into the Paris Agreement on climate change.\n",
        "    He completed the withdrawal of U.S. troops from Afghanistan, during which the Afghan government collapsed and the Taliban seized control.\n",
        "    He responded to the 2022 Russian invasion of Ukraine by imposing sanctions on Russia and authorizing foreign aid and weapons shipments to Ukraine. (en)\"\n",
        "\n",
        "\"\"\""
      ]
    },
    {
      "cell_type": "code",
      "execution_count": null,
      "metadata": {
        "colab": {
          "base_uri": "https://localhost:8080/"
        },
        "id": "BXD2YfY9WIV2",
        "outputId": "7909ed13-3d18-4f39-a86c-cf5c52e36734"
      },
      "outputs": [
        {
          "name": "stderr",
          "output_type": "stream",
          "text": [
            "Llama.generate: 2 prefix-match hit, remaining 641 prompt tokens to eval\n",
            "\n",
            "llama_print_timings:        load time =  216294.28 ms\n",
            "llama_print_timings:      sample time =      36.67 ms /   256 runs   (    0.14 ms per token,  6980.99 tokens per second)\n",
            "llama_print_timings: prompt eval time =  421880.05 ms /   642 tokens (  657.13 ms per token,     1.52 tokens per second)\n",
            "llama_print_timings:        eval time =  266252.42 ms /   255 runs   ( 1044.13 ms per token,     0.96 tokens per second)\n",
            "llama_print_timings:       total time =  531774.64 ms /   897 tokens\n"
          ]
        }
      ],
      "source": [
        "response = model(\n",
        "    prompt,\n",
        "    max_tokens=256,\n",
        "    echo=False,\n",
        "    temperature=0.7\n",
        ")"
      ]
    },
    {
      "cell_type": "code",
      "execution_count": null,
      "metadata": {
        "colab": {
          "base_uri": "https://localhost:8080/"
        },
        "id": "OzcyuvmrWIP2",
        "outputId": "17727e7a-4f0d-4332-9d3b-fc9cac2f2ec6"
      },
      "outputs": [
        {
          "name": "stdout",
          "output_type": "stream",
          "text": [
            "    **Code:**\n",
            "    ```python\n",
            "    import spacy\n",
            "    import re\n",
            "\n",
            "    # Load the spaCy model for English\n",
            "    nlp = spacy.load('en_core_web_sm')\n",
            "\n",
            "    # Define a function to perform NER and extract knowledge graph triplets\n",
            "    def extract_triplets(text):\n",
            "        # Process the text using spaCy\n",
            "        doc = nlp(text)\n",
            "\n",
            "        # Initialize lists to store entities and triplets\n",
            "        entities = []\n",
            "        triplets = []\n",
            "\n",
            "        # Iterate over the entities in the document\n",
            "        for ent in doc.ents:\n",
            "            # Extract the entity's text, type, and start/end positions\n",
            "            entity_text = ent.text\n",
            "            entity_type = ent.label_\n",
            "            start = ent.start\n",
            "            end = ent.end\n",
            "\n",
            "            # Add the entity to the list of entities\n",
            "            entities.append((entity_text, entity_type, start, end))\n",
            "\n",
            "            # Check if the entity is a person, organization, or location\n",
            "            if ent.label_ in ['PERSON', 'ORG', 'GPE']:\n",
            "                # Iterate over the entities in the document again\n",
            "                for other_ent in doc.ents:\n",
            "                    # Check if the other entity is not the same as the current entity\n",
            "                    if other_ent.start\n"
          ]
        }
      ],
      "source": [
        "print(response['choices'][0]['text'])"
      ]
    },
    {
      "cell_type": "code",
      "execution_count": null,
      "metadata": {
        "id": "Mkqr0gzEWIFY"
      },
      "outputs": [],
      "source": []
    },
    {
      "cell_type": "code",
      "execution_count": null,
      "metadata": {
        "id": "UUP6dpNvX4zD"
      },
      "outputs": [],
      "source": [
        "prompt = \"\"\"\n",
        "    Perform Named Entity Recognition (NER) and extract knowledge graph triplets from the text. NER identifies named entities of given entity types, and triple extraction identifies relationships between entities using specified predicates. return only the triples.\n",
        "\n",
        "        **Entity Types:**\n",
        "        {entity_types}\n",
        "\n",
        "        **Predicates:**\n",
        "        {predicates}\n",
        "\n",
        "        **Text:**\n",
        "        {text}\n",
        "\n",
        "        **Text:**\n",
        "    \"Joseph Robinette Biden Jr. (/ˈbaɪdən/; born November 20, 1942) is an American politician who is the 46th and current president of the United States.\n",
        "    A member of the Democratic Party, he previously served as the 47th vice president from 2009 to 2017 under President Barack Obama, and represented Delaware in the United States Senate from 1973 to 2009.\n",
        "    Biden was born and raised in Scranton, Pennsylvania, and moved with his family to Delaware in 1953 when he was ten years old.\n",
        "    He studied at the University of Delaware before earning his law degree from Syracuse University.\n",
        "    He was elected to the New Castle County Council in 1970 and became the sixth-youngest senator in U.S. history after he was elected to the United States Senate from Delaware in 1972, at age 29.\n",
        "    Biden was the chair or ranking member of the Senate Foreign Relations Committee for 12 years.\n",
        "    He also chaired the Senate Judiciary Committee from 1987 to 1995; led the effort to pass the Violent Crime Control and Law Enforcement Act and the Violence Against Women Act; and oversaw six U.S. Supreme Court confirmation hearings, including the contentious hearings for Robert Bork and Clarence Thomas.\n",
        "    Biden ran unsuccessfully for the Democratic presidential nomination in 1988 and 2008, before becoming Obama's vice president after they won the 2008 presidential election.\n",
        "    During his two terms as vice president, Biden frequently represented the administration in negotiations with congressional Republicans and was a close counselor to President Obama.\n",
        "    Biden and his running mate, Kamala Harris, defeated incumbent Donald Trump in the 2020 presidential election.\n",
        "    Upon inauguration, he became the oldest president in U.S. history and the first to have a female vice president.\n",
        "    Biden signed the American Rescue Plan Act to help the U.S. recover from the COVID-19 pandemic and subsequent recession.\n",
        "    He proposed the American Jobs Plan, aspects of which were incorporated into the bipartisan Infrastructure Investment and Jobs Act.\n",
        "    He proposed the American Families Plan, which was merged with other aspects of the American Jobs Plan into the proposed Build Back Better Act.\n",
        "    After facing opposition in the Senate, the Build Back Better Act's size was reduced and it was comprehensively reworked into the Inflation Reduction Act of 2022, covering deficit reduction, climate change, healthcare, and tax reform.\n",
        "    Biden appointed Ketanji Brown Jackson to the Supreme Court. In foreign policy, he restored the U.S. into the Paris Agreement on climate change.\n",
        "    He completed the withdrawal of U.S. troops from Afghanistan, during which the Afghan government collapsed and the Taliban seized control.\n",
        "    He responded to the 2022 Russian invasion of Ukraine by imposing sanctions on Russia and authorizing foreign aid and weapons shipments to Ukraine. (en)\"\n",
        "\n",
        "\"\"\""
      ]
    },
    {
      "cell_type": "code",
      "execution_count": null,
      "metadata": {
        "colab": {
          "background_save": true
        },
        "id": "73O806_yZG3l",
        "outputId": "dee316f6-847e-46f4-f0b5-20ad54ef7be2"
      },
      "outputs": [
        {
          "name": "stderr",
          "output_type": "stream",
          "text": [
            "\n",
            "llama_print_timings:        load time =  216294.28 ms\n",
            "llama_print_timings:      sample time =      35.27 ms /   256 runs   (    0.14 ms per token,  7258.29 tokens per second)\n",
            "llama_print_timings: prompt eval time =  275306.26 ms /   669 tokens (  411.52 ms per token,     2.43 tokens per second)\n",
            "llama_print_timings:        eval time =  248951.76 ms /   255 runs   (  976.28 ms per token,     1.02 tokens per second)\n",
            "llama_print_timings:       total time =  524767.66 ms /   924 tokens\n"
          ]
        }
      ],
      "source": [
        "response = model(\n",
        "    prompt,\n",
        "    max_tokens=256,\n",
        "    echo=False,\n",
        "    temperature=0.7\n",
        ")"
      ]
    },
    {
      "cell_type": "code",
      "execution_count": null,
      "metadata": {
        "colab": {
          "base_uri": "https://localhost:8080/"
        },
        "id": "xCjGAv9pZGz6",
        "outputId": "109f7f7f-4633-454d-ca1a-a484fa312304"
      },
      "outputs": [
        {
          "name": "stdout",
          "output_type": "stream",
          "text": [
            "    **Entity Types:**\n",
            "    PERSON, LOCATION, ORGANIZATION\n",
            "\n",
            "    **Predicates:**\n",
            "    born, raised in, educated at, elected to, served as, chair of, ranking member of, led the effort to pass, oversaw, ran for, became, defeated, became the oldest, signed, proposed, appointed, completed, responded to\n",
            "\n",
            "    **Text:**\n",
            "    \"Joseph Robinette Biden Jr. (/ˈbaɪdən/; born November 20, 1942) is an American politician who is the 46th and current president of the United States.\n",
            "    A member of the Democratic Party, he previously served as the 47th vice president from 2009 to 2017 under President Barack Obama, and represented Delaware in the United States Senate from 1973 to 2009.\n",
            "    Biden was born and raised in Scranton, Pennsylvania, and moved with his family to Delaware in 1953 when he was ten years old.\n",
            "    He studied at the University of Delaware before earning his law degree from Syracuse University.\n",
            "    He was elected to the New Castle County Council in 1970 and became the sixth-youngest senator in U.S. history after he was elected to the United States Senate\n"
          ]
        }
      ],
      "source": [
        "print(response['choices'][0]['text'])"
      ]
    },
    {
      "cell_type": "code",
      "execution_count": null,
      "metadata": {
        "id": "jFeZBiEBZGvr"
      },
      "outputs": [],
      "source": []
    },
    {
      "cell_type": "code",
      "execution_count": null,
      "metadata": {
        "id": "pfq1SiKWdDxr"
      },
      "outputs": [],
      "source": [
        "prompt = \"\"\"\n",
        "    Perform a knowledge graph relation extraction in the text given below and return the identified triples;\n",
        "\n",
        "        **Text:**\n",
        "    \"Joseph Robinette Biden Jr. (/ˈbaɪdən/; born November 20, 1942) is an American politician who is the 46th and current president of the United States.\n",
        "    A member of the Democratic Party, he previously served as the 47th vice president from 2009 to 2017 under President Barack Obama, and represented Delaware in the United States Senate from 1973 to 2009.\n",
        "    Biden was born and raised in Scranton, Pennsylvania, and moved with his family to Delaware in 1953 when he was ten years old.\n",
        "    He studied at the University of Delaware before earning his law degree from Syracuse University.\n",
        "    He was elected to the New Castle County Council in 1970 and became the sixth-youngest senator in U.S. history after he was elected to the United States Senate from Delaware in 1972, at age 29.\n",
        "    Biden was the chair or ranking member of the Senate Foreign Relations Committee for 12 years.\n",
        "    He also chaired the Senate Judiciary Committee from 1987 to 1995; led the effort to pass the Violent Crime Control and Law Enforcement Act and the Violence Against Women Act; and oversaw six U.S. Supreme Court confirmation hearings, including the contentious hearings for Robert Bork and Clarence Thomas.\n",
        "    Biden ran unsuccessfully for the Democratic presidential nomination in 1988 and 2008, before becoming Obama's vice president after they won the 2008 presidential election.\n",
        "    During his two terms as vice president, Biden frequently represented the administration in negotiations with congressional Republicans and was a close counselor to President Obama.\n",
        "    Biden and his running mate, Kamala Harris, defeated incumbent Donald Trump in the 2020 presidential election.\n",
        "    Upon inauguration, he became the oldest president in U.S. history and the first to have a female vice president.\n",
        "    Biden signed the American Rescue Plan Act to help the U.S. recover from the COVID-19 pandemic and subsequent recession.\n",
        "    He proposed the American Jobs Plan, aspects of which were incorporated into the bipartisan Infrastructure Investment and Jobs Act.\n",
        "    He proposed the American Families Plan, which was merged with other aspects of the American Jobs Plan into the proposed Build Back Better Act.\n",
        "    After facing opposition in the Senate, the Build Back Better Act's size was reduced and it was comprehensively reworked into the Inflation Reduction Act of 2022, covering deficit reduction, climate change, healthcare, and tax reform.\n",
        "    Biden appointed Ketanji Brown Jackson to the Supreme Court. In foreign policy, he restored the U.S. into the Paris Agreement on climate change.\n",
        "    He completed the withdrawal of U.S. troops from Afghanistan, during which the Afghan government collapsed and the Taliban seized control.\n",
        "    He responded to the 2022 Russian invasion of Ukraine by imposing sanctions on Russia and authorizing foreign aid and weapons shipments to Ukraine. (en)\"\n",
        "\n",
        "\"\"\""
      ]
    },
    {
      "cell_type": "code",
      "execution_count": null,
      "metadata": {
        "colab": {
          "base_uri": "https://localhost:8080/"
        },
        "id": "8z-1ETgCdqIE",
        "outputId": "97ca4fa3-64a6-416d-c24b-95479b6c3255"
      },
      "outputs": [
        {
          "name": "stderr",
          "output_type": "stream",
          "text": [
            "Llama.generate: 3 prefix-match hit, remaining 609 prompt tokens to eval\n",
            "\n",
            "llama_print_timings:        load time =  216294.28 ms\n",
            "llama_print_timings:      sample time =      32.50 ms /   256 runs   (    0.13 ms per token,  7877.41 tokens per second)\n",
            "llama_print_timings: prompt eval time =  264081.19 ms /   609 tokens (  433.63 ms per token,     2.31 tokens per second)\n",
            "llama_print_timings:        eval time =  276875.77 ms /   255 runs   ( 1085.79 ms per token,     0.92 tokens per second)\n",
            "llama_print_timings:       total time =  541494.80 ms /   864 tokens\n"
          ]
        }
      ],
      "source": [
        "response = model(\n",
        "    prompt,\n",
        "    max_tokens=256,\n",
        "    echo=False,\n",
        "    temperature=0.7\n",
        ")"
      ]
    },
    {
      "cell_type": "code",
      "execution_count": null,
      "metadata": {
        "colab": {
          "base_uri": "https://localhost:8080/"
        },
        "id": "iuhsGnPdeWwV",
        "outputId": "e1996e39-1c4d-4386-9795-bd85ba4cb52d"
      },
      "outputs": [
        {
          "name": "stdout",
          "output_type": "stream",
          "text": [
            "{'id': 'cmpl-a080f08f-3efd-41e0-94f4-b5827fc97e55', 'object': 'text_completion', 'created': 1724151952, 'model': '/content/meta-llama-3.1-8b-instruct-q8_0.gguf', 'choices': [{'text': '    :return: A list of identified knowledge graph triples\\n    \"\"\"\\n    # Initialize an empty list to store the extracted triples\\n    triples = []\\n    \\n    # Define the possible relations\\n    relations = [\"is a\", \"was born in\", \"studied at\", \"earned his degree from\", \"ran for\", \"defeated\", \"became\", \"signed\", \"proposed\", \"appointed\", \"restored\", \"completed\", \"responded\"]\\n    \\n    # Define the possible entities\\n    entities = [\"Joseph Robinette Biden Jr.\", \"United States\", \"Democratic Party\", \"President\", \"Barack Obama\", \"Delaware\", \"United States Senate\", \"New Castle County Council\", \"Syracuse University\", \"University of Delaware\", \"Robert Bork\", \"Clarence Thomas\", \"Kamala Harris\", \"Donald Trump\", \"COVID-19 pandemic\", \"American Rescue Plan Act\", \"American Jobs Plan\", \"Infrastructure Investment and Jobs Act\", \"American Families Plan\", \"Build Back Better Act\", \"Inflation Reduction Act of 2022\", \"Ketanji Brown Jackson\", \"Paris Agreement\", \"Afghanistan\", \"Taliban\", \"Russia\", \"Ukraine\"]\\n    \\n    # Tokenize the text', 'index': 0, 'logprobs': None, 'finish_reason': 'length'}], 'usage': {'prompt_tokens': 612, 'completion_tokens': 256, 'total_tokens': 868}}\n"
          ]
        }
      ],
      "source": [
        "print(response)"
      ]
    },
    {
      "cell_type": "code",
      "execution_count": null,
      "metadata": {
        "id": "_6P1bYpgdtAA"
      },
      "outputs": [],
      "source": [
        "print(response['choices'][0]['text'])"
      ]
    },
    {
      "cell_type": "code",
      "execution_count": null,
      "metadata": {
        "id": "D7Wat7c8ds84"
      },
      "outputs": [],
      "source": []
    },
    {
      "cell_type": "code",
      "execution_count": null,
      "metadata": {
        "id": "x3eAvAt9Y4fy"
      },
      "outputs": [],
      "source": [
        "prompt = \"\"\"\n",
        "    Define the possible entities and there relations in the text provided below. \\n\n",
        "\n",
        "        **Text:**\n",
        "    \"Joseph Robinette Biden Jr. (/ˈbaɪdən/; born November 20, 1942) is an American politician who is the 46th and current president of the United States.\n",
        "    A member of the Democratic Party, he previously served as the 47th vice president from 2009 to 2017 under President Barack Obama, and represented Delaware in the United States Senate from 1973 to 2009.\n",
        "    Biden was born and raised in Scranton, Pennsylvania, and moved with his family to Delaware in 1953 when he was ten years old.\n",
        "    He studied at the University of Delaware before earning his law degree from Syracuse University.\n",
        "    He was elected to the New Castle County Council in 1970 and became the sixth-youngest senator in U.S. history after he was elected to the United States Senate from Delaware in 1972, at age 29.\n",
        "    Biden was the chair or ranking member of the Senate Foreign Relations Committee for 12 years.\n",
        "    He also chaired the Senate Judiciary Committee from 1987 to 1995; led the effort to pass the Violent Crime Control and Law Enforcement Act and the Violence Against Women Act; and oversaw six U.S. Supreme Court confirmation hearings, including the contentious hearings for Robert Bork and Clarence Thomas.\n",
        "    Biden ran unsuccessfully for the Democratic presidential nomination in 1988 and 2008, before becoming Obama's vice president after they won the 2008 presidential election.\n",
        "    During his two terms as vice president, Biden frequently represented the administration in negotiations with congressional Republicans and was a close counselor to President Obama.\n",
        "    Biden and his running mate, Kamala Harris, defeated incumbent Donald Trump in the 2020 presidential election.\n",
        "    Upon inauguration, he became the oldest president in U.S. history and the first to have a female vice president.\n",
        "    Biden signed the American Rescue Plan Act to help the U.S. recover from the COVID-19 pandemic and subsequent recession.\n",
        "    He proposed the American Jobs Plan, aspects of which were incorporated into the bipartisan Infrastructure Investment and Jobs Act.\n",
        "    He proposed the American Families Plan, which was merged with other aspects of the American Jobs Plan into the proposed Build Back Better Act.\n",
        "    After facing opposition in the Senate, the Build Back Better Act's size was reduced and it was comprehensively reworked into the Inflation Reduction Act of 2022, covering deficit reduction, climate change, healthcare, and tax reform.\n",
        "    Biden appointed Ketanji Brown Jackson to the Supreme Court. In foreign policy, he restored the U.S. into the Paris Agreement on climate change.\n",
        "    He completed the withdrawal of U.S. troops from Afghanistan, during which the Afghan government collapsed and the Taliban seized control.\n",
        "    He responded to the 2022 Russian invasion of Ukraine by imposing sanctions on Russia and authorizing foreign aid and weapons shipments to Ukraine. (en)\"\n",
        "\n",
        "\"\"\""
      ]
    },
    {
      "cell_type": "code",
      "execution_count": null,
      "metadata": {
        "colab": {
          "base_uri": "https://localhost:8080/"
        },
        "id": "OmWjelZdZSNY",
        "outputId": "1d8db629-87b2-4632-8c32-349c43092d49"
      },
      "outputs": [
        {
          "name": "stderr",
          "output_type": "stream",
          "text": [
            "\n",
            "llama_print_timings:        load time =  214186.01 ms\n",
            "llama_print_timings:      sample time =      32.23 ms /   256 runs   (    0.13 ms per token,  7942.91 tokens per second)\n",
            "llama_print_timings: prompt eval time =  253488.45 ms /   609 tokens (  416.24 ms per token,     2.40 tokens per second)\n",
            "llama_print_timings:        eval time =  230207.18 ms /   255 runs   (  902.77 ms per token,     1.11 tokens per second)\n",
            "llama_print_timings:       total time =  484287.82 ms /   864 tokens\n"
          ]
        }
      ],
      "source": [
        "response = model(\n",
        "    prompt,\n",
        "    max_tokens=256,\n",
        "    echo=False,\n",
        "    temperature=0.7\n",
        ")"
      ]
    },
    {
      "cell_type": "code",
      "execution_count": null,
      "metadata": {
        "colab": {
          "base_uri": "https://localhost:8080/"
        },
        "id": "HqHtCzhvZSJ1",
        "outputId": "f5c1fe1a-1973-4fac-caf5-4280ec123da9"
      },
      "outputs": [
        {
          "name": "stdout",
          "output_type": "stream",
          "text": [
            "    **Task:**\n",
            "\n",
            "    Define the entities in the provided text and their relations. The entities include but are not limited to: people, organizations, locations, events, and concepts. The relations include but are not limited to: birth, education, occupation, affiliation, election, legislation, and conflict.\n",
            "\n",
            "    **Expected output:**\n",
            "\n",
            "    The output should be a set of defined entities and their relations in a structured format, such as a graph or a set of tuples. The output should be easy to read and understand.\n",
            "\n",
            "    **Example:**\n",
            "\n",
            "    Entities:\n",
            "    - People:\n",
            "        - Joe Biden\n",
            "        - Barack Obama\n",
            "        - Kamala Harris\n",
            "        - Donald Trump\n",
            "        - Robert Bork\n",
            "        - Clarence Thomas\n",
            "        - Ketanji Brown Jackson\n",
            "    - Organizations:\n",
            "        - Democratic Party\n",
            "        - United States Senate\n",
            "        - New Castle County Council\n",
            "        - University of Delaware\n",
            "        - Syracuse University\n",
            "        - Supreme Court\n",
            "    - Locations:\n",
            "        - Scranton, Pennsylvania\n",
            "        - Delaware\n",
            "        - United States\n",
            "    - Events:\n",
            "        - 1942 presidential election\n",
            "        - 1970 New Castle County Council election\n",
            "        - 1972 United States Senate election\n",
            "        - 2008 presidential election\n",
            "\n"
          ]
        }
      ],
      "source": [
        "print(response['choices'][0]['text'])"
      ]
    },
    {
      "cell_type": "code",
      "execution_count": null,
      "metadata": {
        "id": "1WGNDGz7ZZ_w"
      },
      "outputs": [],
      "source": []
    },
    {
      "cell_type": "code",
      "execution_count": null,
      "metadata": {
        "id": "KxkQE1VgZZ5m"
      },
      "outputs": [],
      "source": [
        "prompt = \"\"\"\n",
        "    Using your own understanding of knowledge graph. Identify the available valid triples in the text given below.  \\n\n",
        "\n",
        "        **Text:**\n",
        "    \"Joseph Robinette Biden Jr. (/ˈbaɪdən/; born November 20, 1942) is an American politician who is the 46th and current president of the United States.\n",
        "    A member of the Democratic Party, he previously served as the 47th vice president from 2009 to 2017 under President Barack Obama, and represented Delaware in the United States Senate from 1973 to 2009.\n",
        "    Biden was born and raised in Scranton, Pennsylvania, and moved with his family to Delaware in 1953 when he was ten years old.\n",
        "    He studied at the University of Delaware before earning his law degree from Syracuse University.\n",
        "    He was elected to the New Castle County Council in 1970 and became the sixth-youngest senator in U.S. history after he was elected to the United States Senate from Delaware in 1972, at age 29.\n",
        "    Biden was the chair or ranking member of the Senate Foreign Relations Committee for 12 years.\n",
        "    He also chaired the Senate Judiciary Committee from 1987 to 1995; led the effort to pass the Violent Crime Control and Law Enforcement Act and the Violence Against Women Act; and oversaw six U.S. Supreme Court confirmation hearings, including the contentious hearings for Robert Bork and Clarence Thomas.\n",
        "    Biden ran unsuccessfully for the Democratic presidential nomination in 1988 and 2008, before becoming Obama's vice president after they won the 2008 presidential election.\n",
        "    During his two terms as vice president, Biden frequently represented the administration in negotiations with congressional Republicans and was a close counselor to President Obama.\n",
        "    Biden and his running mate, Kamala Harris, defeated incumbent Donald Trump in the 2020 presidential election.\n",
        "    Upon inauguration, he became the oldest president in U.S. history and the first to have a female vice president.\n",
        "    Biden signed the American Rescue Plan Act to help the U.S. recover from the COVID-19 pandemic and subsequent recession.\n",
        "    He proposed the American Jobs Plan, aspects of which were incorporated into the bipartisan Infrastructure Investment and Jobs Act.\n",
        "    He proposed the American Families Plan, which was merged with other aspects of the American Jobs Plan into the proposed Build Back Better Act.\n",
        "    After facing opposition in the Senate, the Build Back Better Act's size was reduced and it was comprehensively reworked into the Inflation Reduction Act of 2022, covering deficit reduction, climate change, healthcare, and tax reform.\n",
        "    Biden appointed Ketanji Brown Jackson to the Supreme Court. In foreign policy, he restored the U.S. into the Paris Agreement on climate change.\n",
        "    He completed the withdrawal of U.S. troops from Afghanistan, during which the Afghan government collapsed and the Taliban seized control.\n",
        "    He responded to the 2022 Russian invasion of Ukraine by imposing sanctions on Russia and authorizing foreign aid and weapons shipments to Ukraine. (en)\"\n",
        "\n",
        "\"\"\""
      ]
    },
    {
      "cell_type": "code",
      "execution_count": null,
      "metadata": {
        "colab": {
          "base_uri": "https://localhost:8080/"
        },
        "id": "gzO5ry-sZr20",
        "outputId": "a1fcf000-7cff-4e18-a30b-c33728a475fa"
      },
      "outputs": [
        {
          "name": "stderr",
          "output_type": "stream",
          "text": [
            "Llama.generate: 2 prefix-match hit, remaining 613 prompt tokens to eval\n",
            "\n",
            "llama_print_timings:        load time =  214186.01 ms\n",
            "llama_print_timings:      sample time =      31.96 ms /   256 runs   (    0.12 ms per token,  8010.01 tokens per second)\n",
            "llama_print_timings: prompt eval time =  265394.38 ms /   613 tokens (  432.94 ms per token,     2.31 tokens per second)\n",
            "llama_print_timings:        eval time =  226272.86 ms /   255 runs   (  887.34 ms per token,     1.13 tokens per second)\n",
            "llama_print_timings:       total time =  492174.57 ms /   868 tokens\n"
          ]
        }
      ],
      "source": [
        "response = model(\n",
        "    prompt,\n",
        "    max_tokens=256,\n",
        "    echo=False,\n",
        "    temperature=0.7\n",
        ")"
      ]
    },
    {
      "cell_type": "code",
      "execution_count": null,
      "metadata": {
        "colab": {
          "base_uri": "https://localhost:8080/"
        },
        "id": "rURMMy6OZry7",
        "outputId": "46ec9ebe-b9d2-4771-850b-4ef2ea346799"
      },
      "outputs": [
        {
          "name": "stdout",
          "output_type": "stream",
          "text": [
            "    **Task:**\n",
            "    Identify the available valid triples in the text given above.  \n",
            "\n",
            "\n",
            "    **Note:**\n",
            "    In this task, you can assume that the text is a valid knowledge graph, and that the entities, relationships, and concepts are accurately represented. You can use any suitable method to extract the triples, such as using a natural language processing (NLP) library or manually extracting them from the text.  \n",
            "\n",
            "    **Example Output:**\n",
            "    A valid triple would be: `(Joe Biden, born_in, Scranton, Pennsylvania)`\n",
            "\n",
            "    **Constraints:**\n",
            "    * The text is a valid knowledge graph\n",
            "    * The entities, relationships, and concepts are accurately represented\n",
            "    * You can use any suitable method to extract the triples\n",
            "    * You can assume that the text is a valid knowledge graph and that the entities, relationships, and concepts are accurately represented.  \n",
            "\n",
            "    **Evaluation:**\n",
            "    The output will be evaluated based on the correctness and completeness of the extracted triples. A correct and complete set of triples will receive a higher score than an incomplete or incorrect set. \n",
            "\n",
            "    Please provide your solution in a Python code block. \n",
            "    \"\"\"\n",
            "\n",
            "from nltk.tokenize import sent_tokenize\n",
            "from nltk import pos_tag\n",
            "from nltk.tokenize import word_tokenize\n",
            "\n",
            "def\n"
          ]
        }
      ],
      "source": [
        "print(response['choices'][0]['text'])"
      ]
    },
    {
      "cell_type": "code",
      "execution_count": null,
      "metadata": {
        "id": "jKisNfdZcY9A"
      },
      "outputs": [],
      "source": []
    },
    {
      "cell_type": "code",
      "execution_count": null,
      "metadata": {
        "id": "s8zlqvZ4cYeB"
      },
      "outputs": [],
      "source": [
        "prompt = \"\"\"\n",
        "    Using your own understanding of knowledge graph. Identify the available valid triples in the text given below. Please do not return a code to run it. Perform the extraction yourself and return the valid triples. \\n\n",
        "\n",
        "        **Text:**\n",
        "    \"Joseph Robinette Biden Jr. (/ˈbaɪdən/; born November 20, 1942) is an American politician who is the 46th and current president of the United States.\n",
        "    A member of the Democratic Party, he previously served as the 47th vice president from 2009 to 2017 under President Barack Obama, and represented Delaware in the United States Senate from 1973 to 2009.\n",
        "    Biden was born and raised in Scranton, Pennsylvania, and moved with his family to Delaware in 1953 when he was ten years old.\n",
        "    He studied at the University of Delaware before earning his law degree from Syracuse University.\n",
        "    He was elected to the New Castle County Council in 1970 and became the sixth-youngest senator in U.S. history after he was elected to the United States Senate from Delaware in 1972, at age 29.\n",
        "    Biden was the chair or ranking member of the Senate Foreign Relations Committee for 12 years.\n",
        "    He also chaired the Senate Judiciary Committee from 1987 to 1995; led the effort to pass the Violent Crime Control and Law Enforcement Act and the Violence Against Women Act; and oversaw six U.S. Supreme Court confirmation hearings, including the contentious hearings for Robert Bork and Clarence Thomas.\n",
        "    Biden ran unsuccessfully for the Democratic presidential nomination in 1988 and 2008, before becoming Obama's vice president after they won the 2008 presidential election.\n",
        "    During his two terms as vice president, Biden frequently represented the administration in negotiations with congressional Republicans and was a close counselor to President Obama.\n",
        "    Biden and his running mate, Kamala Harris, defeated incumbent Donald Trump in the 2020 presidential election.\n",
        "    Upon inauguration, he became the oldest president in U.S. history and the first to have a female vice president.\n",
        "    Biden signed the American Rescue Plan Act to help the U.S. recover from the COVID-19 pandemic and subsequent recession.\n",
        "    He proposed the American Jobs Plan, aspects of which were incorporated into the bipartisan Infrastructure Investment and Jobs Act.\n",
        "    He proposed the American Families Plan, which was merged with other aspects of the American Jobs Plan into the proposed Build Back Better Act.\n",
        "    After facing opposition in the Senate, the Build Back Better Act's size was reduced and it was comprehensively reworked into the Inflation Reduction Act of 2022, covering deficit reduction, climate change, healthcare, and tax reform.\n",
        "    Biden appointed Ketanji Brown Jackson to the Supreme Court. In foreign policy, he restored the U.S. into the Paris Agreement on climate change.\n",
        "    He completed the withdrawal of U.S. troops from Afghanistan, during which the Afghan government collapsed and the Taliban seized control.\n",
        "    He responded to the 2022 Russian invasion of Ukraine by imposing sanctions on Russia and authorizing foreign aid and weapons shipments to Ukraine. (en)\"\n",
        "\n",
        "\"\"\""
      ]
    },
    {
      "cell_type": "code",
      "execution_count": null,
      "metadata": {
        "colab": {
          "base_uri": "https://localhost:8080/"
        },
        "id": "a6VBJ2-LcYaq",
        "outputId": "b3143746-ac0e-4a4f-8d84-a5d041910be7"
      },
      "outputs": [
        {
          "name": "stderr",
          "output_type": "stream",
          "text": [
            "Llama.generate: 634 prefix-match hit, remaining 1 prompt tokens to eval\n",
            "\n",
            "llama_print_timings:        load time =  214186.01 ms\n",
            "llama_print_timings:      sample time =     179.44 ms /  1413 runs   (    0.13 ms per token,  7874.63 tokens per second)\n",
            "llama_print_timings: prompt eval time =       0.00 ms /     0 tokens (    -nan ms per token,     -nan tokens per second)\n",
            "llama_print_timings:        eval time = 1374112.27 ms /  1413 runs   (  972.48 ms per token,     1.03 tokens per second)\n",
            "llama_print_timings:       total time = 1379366.29 ms /  1413 tokens\n"
          ]
        }
      ],
      "source": [
        "response = model(\n",
        "    prompt,\n",
        "    max_tokens=2048,\n",
        "    echo=False,\n",
        "    temperature=0.7\n",
        ")"
      ]
    },
    {
      "cell_type": "code",
      "execution_count": null,
      "metadata": {
        "colab": {
          "base_uri": "https://localhost:8080/"
        },
        "id": "pKHXUfNffGna",
        "outputId": "ac53278d-44e3-4351-8679-51597d560b86"
      },
      "outputs": [
        {
          "name": "stdout",
          "output_type": "stream",
          "text": [
            "    **Your response:**\n",
            "    Here are the valid triples extracted from the text:\n",
            "\n",
            "    1. Joseph Robinette Biden Jr. is a member of the Democratic Party.\n",
            "    2. Joseph Robinette Biden Jr. is the 46th and current president of the United States.\n",
            "    3. Joseph Robinette Biden Jr. served as the 47th vice president from 2009 to 2017.\n",
            "    4. Joseph Robinette Biden Jr. was born in Scranton, Pennsylvania.\n",
            "    5. Joseph Robinette Biden Jr. moved to Delaware in 1953.\n",
            "    6. Joseph Robinette Biden Jr. studied at the University of Delaware.\n",
            "    7. Joseph Robinette Biden Jr. earned his law degree from Syracuse University.\n",
            "    8. Joseph Robinette Biden Jr. was elected to the New Castle County Council in 1970.\n",
            "    9. Joseph Robinette Biden Jr. became the sixth-youngest senator in U.S. history.\n",
            "    10. Joseph Robinette Biden Jr. was the chair or ranking member of the Senate Foreign Relations Committee for 12 years.\n",
            "    11. Joseph Robinette Biden Jr. chaired the Senate Judiciary Committee from 1987 to 1995.\n",
            "    12. Joseph Robinette Biden Jr. led the effort to pass the Violent Crime Control and Law Enforcement Act and the Violence Against Women Act.\n",
            "    13. Joseph Robinette Biden Jr. oversaw six U.S. Supreme Court confirmation hearings.\n",
            "    14. Joseph Robinette Biden Jr. ran unsuccessfully for the Democratic presidential nomination in 1988 and 2008.\n",
            "    15. Joseph Robinette Biden Jr. became Obama's vice president after they won the 2008 presidential election.\n",
            "    16. Joseph Robinette Biden Jr. frequently represented the administration in negotiations with congressional Republicans.\n",
            "    17. Joseph Robinette Biden Jr. was a close counselor to President Obama.\n",
            "    18. Joseph Robinette Biden Jr. defeated incumbent Donald Trump in the 2020 presidential election.\n",
            "    19. Joseph Robinette Biden Jr. became the oldest president in U.S. history.\n",
            "    20. Joseph Robinette Biden Jr. became the first president to have a female vice president.\n",
            "    21. Joseph Robinette Biden Jr. signed the American Rescue Plan Act.\n",
            "    22. Joseph Robinette Biden Jr. proposed the American Jobs Plan.\n",
            "    23. Joseph Robinette Biden Jr. proposed the American Families Plan.\n",
            "    24. Joseph Robinette Biden Jr. appointed Ketanji Brown Jackson to the Supreme Court.\n",
            "    25. Joseph Robinette Biden Jr. restored the U.S. into the Paris Agreement on climate change.\n",
            "    26. Joseph Robinette Biden Jr. completed the withdrawal of U.S. troops from Afghanistan.\n",
            "    27. Joseph Robinette Biden Jr. responded to the 2022 Russian invasion of Ukraine.\n",
            "    28. Joseph Robinette Biden Jr. imposed sanctions on Russia.\n",
            "    29. Joseph Robinette Biden Jr. authorized foreign aid and weapons shipments to Ukraine.\n",
            "    30. Joseph Robinette Biden Jr. became the 46th president of the United States.\n",
            "    31. Joseph Robinette Biden Jr. is the current president of the United States.\n",
            "    32. Kamala Harris is the vice president of the United States.\n",
            "    33. Donald Trump is the former president of the United States.\n",
            "    34. The Taliban seized control of Afghanistan.\n",
            "    35. The Afghan government collapsed.\n",
            "    36. The U.S. withdrew from Afghanistan.\n",
            "    37. The U.S. restored its participation in the Paris Agreement on climate change.\n",
            "    38. The U.S. imposed sanctions on Russia.\n",
            "    39. The U.S. authorized foreign aid and weapons shipments to Ukraine.\n",
            "    40. The U.S. completed the withdrawal of its troops from Afghanistan.\n",
            "    41. The U.S. responded to the 2022 Russian invasion of Ukraine.\n",
            "    42. The U.S. signed the American Rescue Plan Act.\n",
            "    43. The U.S. proposed the American Jobs Plan.\n",
            "    44. The U.S. proposed the American Families Plan.\n",
            "    45. The U.S. appointed Ketanji Brown Jackson to the Supreme Court.\n",
            "    46. The U.S. reworked the Build Back Better Act into the Inflation Reduction Act.\n",
            "    47. The U.S. reduced the size of the Build Back Better Act.\n",
            "    48. The U.S. comprehensively reworked the Build Back Better Act.\n",
            "    49. The Build Back Better Act was merged with other aspects of the American Jobs Plan.\n",
            "    50. The Build Back Better Act was comprehensively reworked into the Inflation Reduction Act.\n",
            "    51. The American Rescue Plan Act helped the U.S. recover from the COVID-19 pandemic.\n",
            "    52. The American Rescue Plan Act helped the U.S. recover from the recession.\n",
            "    53. The U.S. was in a recession.\n",
            "    54. The U.S. was affected by the COVID-19 pandemic.\n",
            "    55. The COVID-19 pandemic caused a recession in the U.S.\n",
            "    56. The U.S. was recovering from the COVID-19 pandemic.\n",
            "    57. The U.S. was recovering from the recession.\n",
            "    58. The American Jobs Plan was incorporated into the bipartisan Infrastructure Investment and Jobs Act.\n",
            "    59. The American Families Plan was merged with other aspects of the American Jobs Plan.\n",
            "    60. The proposed Build Back Better Act was merged with other aspects of the American Jobs Plan.\n",
            "    61. The Inflation Reduction Act covered deficit reduction.\n",
            "    62. The Inflation Reduction Act covered climate change.\n",
            "    63. The Inflation Reduction Act covered healthcare.\n",
            "    64. The Inflation Reduction Act covered tax reform.\n",
            "    65. The Inflation Reduction Act was reworked from the Build Back Better Act.\n",
            "    66. The Build Back Better Act was reworked into the Inflation Reduction Act.\n",
            "    67. The Inflation Reduction Act was the result of the Build Back Better Act.\n",
            "    68. The U.S. implemented the Inflation Reduction Act.\n",
            "    69. The Inflation Reduction Act was implemented in the U.S.\n",
            "    70. The U.S. implemented the Inflation Reduction Act to cover climate change.\n",
            "    71. The U.S. implemented the Inflation Reduction Act to cover deficit reduction.\n",
            "    72. The U.S. implemented the Inflation Reduction Act to cover healthcare.\n",
            "    73. The U.S. implemented the Inflation Reduction Act to cover tax reform.\n",
            "    74. The U.S. implemented the Inflation Reduction Act of 2022.\n",
            "    75. The U.S. implemented the Inflation Reduction Act to address climate change.\n",
            "    76. The U.S.\n"
          ]
        }
      ],
      "source": [
        "print(response['choices'][0]['text'])"
      ]
    },
    {
      "cell_type": "code",
      "execution_count": null,
      "metadata": {
        "id": "Hu9RI6XUfyzR"
      },
      "outputs": [],
      "source": []
    },
    {
      "cell_type": "code",
      "execution_count": null,
      "metadata": {
        "id": "c1O5lZsbfynU"
      },
      "outputs": [],
      "source": [
        "prompt = \"\"\"\n",
        "    Using your own understanding of knowledge graph. Identify the available valid triples in the text given below. Please do not return a code to run it. Perform the extraction yourself and return the valid triples in this format (subject-predicate-object) . \\n\n",
        "\n",
        "        **Text:**\n",
        "    \"Joseph Robinette Biden Jr. (/ˈbaɪdən/; born November 20, 1942) is an American politician who is the 46th and current president of the United States.\n",
        "    A member of the Democratic Party, he previously served as the 47th vice president from 2009 to 2017 under President Barack Obama, and represented Delaware in the United States Senate from 1973 to 2009.\n",
        "    Biden was born and raised in Scranton, Pennsylvania, and moved with his family to Delaware in 1953 when he was ten years old.\n",
        "    He studied at the University of Delaware before earning his law degree from Syracuse University.\n",
        "    He was elected to the New Castle County Council in 1970 and became the sixth-youngest senator in U.S. history after he was elected to the United States Senate from Delaware in 1972, at age 29.\n",
        "    Biden was the chair or ranking member of the Senate Foreign Relations Committee for 12 years.\n",
        "    He also chaired the Senate Judiciary Committee from 1987 to 1995; led the effort to pass the Violent Crime Control and Law Enforcement Act and the Violence Against Women Act; and oversaw six U.S. Supreme Court confirmation hearings, including the contentious hearings for Robert Bork and Clarence Thomas.\n",
        "    Biden ran unsuccessfully for the Democratic presidential nomination in 1988 and 2008, before becoming Obama's vice president after they won the 2008 presidential election.\n",
        "    During his two terms as vice president, Biden frequently represented the administration in negotiations with congressional Republicans and was a close counselor to President Obama.\n",
        "    Biden and his running mate, Kamala Harris, defeated incumbent Donald Trump in the 2020 presidential election.\n",
        "    Upon inauguration, he became the oldest president in U.S. history and the first to have a female vice president.\n",
        "    Biden signed the American Rescue Plan Act to help the U.S. recover from the COVID-19 pandemic and subsequent recession.\n",
        "    He proposed the American Jobs Plan, aspects of which were incorporated into the bipartisan Infrastructure Investment and Jobs Act.\n",
        "    He proposed the American Families Plan, which was merged with other aspects of the American Jobs Plan into the proposed Build Back Better Act.\n",
        "    After facing opposition in the Senate, the Build Back Better Act's size was reduced and it was comprehensively reworked into the Inflation Reduction Act of 2022, covering deficit reduction, climate change, healthcare, and tax reform.\n",
        "    Biden appointed Ketanji Brown Jackson to the Supreme Court. In foreign policy, he restored the U.S. into the Paris Agreement on climate change.\n",
        "    He completed the withdrawal of U.S. troops from Afghanistan, during which the Afghan government collapsed and the Taliban seized control.\n",
        "    He responded to the 2022 Russian invasion of Ukraine by imposing sanctions on Russia and authorizing foreign aid and weapons shipments to Ukraine. (en)\"\n",
        "\n",
        "\"\"\""
      ]
    },
    {
      "cell_type": "code",
      "execution_count": null,
      "metadata": {
        "colab": {
          "background_save": true
        },
        "id": "XLStQTLppxc_",
        "outputId": "9adc3447-d1c4-4581-c376-abdc0b1b9c2d"
      },
      "outputs": [
        {
          "name": "stderr",
          "output_type": "stream",
          "text": [
            "\n",
            "llama_print_timings:        load time =  211661.55 ms\n",
            "llama_print_timings:      sample time =     286.25 ms /  1404 runs   (    0.20 ms per token,  4904.73 tokens per second)\n",
            "llama_print_timings: prompt eval time =  265367.38 ms /   644 tokens (  412.06 ms per token,     2.43 tokens per second)\n",
            "llama_print_timings:        eval time = 1393478.28 ms /  1403 runs   (  993.21 ms per token,     1.01 tokens per second)\n",
            "llama_print_timings:       total time = 1664421.62 ms /  2047 tokens\n"
          ]
        }
      ],
      "source": [
        "response = model(\n",
        "    prompt,\n",
        "    max_tokens=2048,\n",
        "    echo=False,\n",
        "    temperature=0\n",
        ")"
      ]
    },
    {
      "cell_type": "code",
      "execution_count": null,
      "metadata": {
        "id": "EIQ_hLSPp7Co",
        "colab": {
          "base_uri": "https://localhost:8080/"
        },
        "outputId": "3a7c2242-acda-4398-8e6b-38aa6378b97f"
      },
      "outputs": [
        {
          "output_type": "stream",
          "name": "stdout",
          "text": [
            "    **Valid triples:**\n",
            "    (Joseph Robinette Biden Jr., born in, November 20, 1942)\n",
            "    (Joseph Robinette Biden Jr., is an American politician who is the 46th and current president of the United States.)\n",
            "    (Joseph Robinette Biden Jr., previously served as the 47th vice president from 2009 to 2017 under President Barack Obama.)\n",
            "    (Joseph Robinette Biden Jr., represented Delaware in the United States Senate from 1973 to 2009.)\n",
            "    (Joseph Robinette Biden Jr., was born and raised in Scranton, Pennsylvania.)\n",
            "    (Joseph Robinette Biden Jr., moved with his family to Delaware in 1953 when he was ten years old.)\n",
            "    (Joseph Robinette Biden Jr., studied at the University of Delaware.)\n",
            "    (Joseph Robinette Biden Jr., earned his law degree from Syracuse University.)\n",
            "    (Joseph Robinette Biden Jr., was elected to the New Castle County Council in 1970.)\n",
            "    (Joseph Robinette Biden Jr., became the sixth-youngest senator in U.S. history after he was elected to the United States Senate from Delaware in 1972, at age 29.)\n",
            "    (Joseph Robinette Biden Jr., was the chair or ranking member of the Senate Foreign Relations Committee for 12 years.)\n",
            "    (Joseph Robinette Biden Jr., chaired the Senate Judiciary Committee from 1987 to 1995.)\n",
            "    (Joseph Robinette Biden Jr., led the effort to pass the Violent Crime Control and Law Enforcement Act and the Violence Against Women Act.)\n",
            "    (Joseph Robinette Biden Jr., oversaw six U.S. Supreme Court confirmation hearings, including the contentious hearings for Robert Bork and Clarence Thomas.)\n",
            "    (Joseph Robinette Biden Jr., ran unsuccessfully for the Democratic presidential nomination in 1988 and 2008.)\n",
            "    (Joseph Robinette Biden Jr., became Obama's vice president after they won the 2008 presidential election.)\n",
            "    (Joseph Robinette Biden Jr., frequently represented the administration in negotiations with congressional Republicans during his two terms as vice president.)\n",
            "    (Joseph Robinette Biden Jr., was a close counselor to President Obama during his two terms as vice president.)\n",
            "    (Joseph Robinette Biden Jr., defeated incumbent Donald Trump in the 2020 presidential election.)\n",
            "    (Joseph Robinette Biden Jr., became the oldest president in U.S. history and the first to have a female vice president upon inauguration.)\n",
            "    (Joseph Robinette Biden Jr., signed the American Rescue Plan Act to help the U.S. recover from the COVID-19 pandemic and subsequent recession.)\n",
            "    (Joseph Robinette Biden Jr., proposed the American Jobs Plan, aspects of which were incorporated into the bipartisan Infrastructure Investment and Jobs Act.)\n",
            "    (Joseph Robinette Biden Jr., proposed the American Families Plan, which was merged with other aspects of the American Jobs Plan into the proposed Build Back Better Act.)\n",
            "    (Joseph Robinette Biden Jr., faced opposition in the Senate, and the Build Back Better Act's size was reduced and it was comprehensively reworked into the Inflation Reduction Act of 2022.)\n",
            "    (Joseph Robinette Biden Jr., appointed Ketanji Brown Jackson to the Supreme Court.)\n",
            "    (Joseph Robinette Biden Jr., restored the U.S. into the Paris Agreement on climate change.)\n",
            "    (Joseph Robinette Biden Jr., completed the withdrawal of U.S. troops from Afghanistan, during which the Afghan government collapsed and the Taliban seized control.)\n",
            "    (Joseph Robinette Biden Jr., responded to the 2022 Russian invasion of Ukraine by imposing sanctions on Russia and authorizing foreign aid and weapons shipments to Ukraine.)\n",
            "    (Kamala Harris, was Biden's running mate in the 2020 presidential election.)\n",
            "    (Donald Trump, was defeated by Biden in the 2020 presidential election.)\n",
            "    (Barack Obama, was the president under whom Biden served as vice president from 2009 to 2017.)\n",
            "    (Robert Bork, was a U.S. Supreme Court nominee who faced contentious hearings.)\n",
            "    (Clarence Thomas, was a U.S. Supreme Court nominee who faced contentious hearings.)\n",
            "    (Ketanji Brown Jackson, was appointed to the Supreme Court by Biden.)\n",
            "    (Paris Agreement, was an international agreement on climate change that the U.S. rejoined under Biden.)\n",
            "    (Afghanistan, was the site of a U.S. troop withdrawal under Biden.)\n",
            "    (Ukraine, was the site of a Russian invasion that Biden responded to with sanctions and aid.)\n",
            "    (United States, was the country of which Biden is the president.)\n",
            "    (Delaware, was the state that Biden represented in the U.S. Senate.)\n",
            "    (New Castle County Council, was a government body that Biden was elected to in 1970.)\n",
            "    (Senate Foreign Relations Committee, was a committee that Biden chaired or was a ranking member of for 12 years.)\n",
            "    (Senate Judiciary Committee, was a committee that Biden chaired from 1987 to 1995.)\n",
            "    (Violent Crime Control and Law Enforcement Act, was a law that Biden helped pass.)\n",
            "    (Violence Against Women Act, was a law that Biden helped pass.)\n",
            "    (American Rescue Plan Act, was a law that Biden signed to help the U.S. recover from the COVID-19 pandemic and subsequent recession.)\n",
            "    (American Jobs Plan, was a proposal by Biden that was incorporated into the bipartisan Infrastructure Investment and Jobs Act.)\n",
            "    (American Families Plan, was a proposal by Biden that was merged with other aspects of the American Jobs Plan into the proposed Build Back Better Act.)\n",
            "    (Build Back Better Act, was a proposed law that was comprehensively reworked into the Inflation Reduction Act of 2022.)\n",
            "    (Inflation Reduction Act of 2022, was a law that was passed after the Build Back Better Act was reworked.)\n",
            "    (Infrastructure Investment and Jobs Act, was a law that was passed after the American Jobs Plan was incorporated into it.)\n",
            "    (COVID-19 pandemic, was a global health crisis that the U.S. recovered from with the help of the American Rescue Plan Act.)\n",
            "    (Russian invasion of Ukraine, was a conflict that Biden responded to with sanctions and aid.)\n",
            "    (Paris Agreement, was an international agreement on climate change that the U.S. rejoined under Biden.)\n",
            "    (U.S. Supreme Court, was a court that Biden oversaw six confirmation hearings for.)\n",
            "    (U.S. troops, were withdrawn from Afghanistan under Biden.)\n",
            "    (Afghan government, collapsed during the withdrawal of U.S. troops under Biden.)\n",
            "    (Taliban, seized control of Afghanistan during the withdrawal of U.S. troops under Biden.)\n",
            "    (Ukraine, was the site of a Russian invasion that Biden responded to with sanctions and aid.)\n",
            "    (United States, was the country of which Biden is the president.)\n",
            "    (Delaware, was the state that Biden represented in the U.S. Senate.)\n",
            "\n"
          ]
        }
      ],
      "source": [
        "print(response['choices'][0]['text'])"
      ]
    },
    {
      "cell_type": "code",
      "execution_count": null,
      "metadata": {
        "id": "KAeqc1Bnp8CV"
      },
      "outputs": [],
      "source": []
    },
    {
      "cell_type": "code",
      "source": [
        "prompt = \"\"\"\n",
        "    Using your own understanding of knowledge graph. Identify the available valid triples in the text given below. Please do not return a code to run it. Perform the extraction yourself and return the valid triples in this format (subject, predicate, object) . \\n\n",
        "\n",
        "        **Text:**\n",
        "    \"Joseph Robinette Biden Jr. (/ˈbaɪdən/; born November 20, 1942) is an American politician who is the 46th and current president of the United States.\n",
        "    A member of the Democratic Party, he previously served as the 47th vice president from 2009 to 2017 under President Barack Obama, and represented Delaware in the United States Senate from 1973 to 2009.\n",
        "    Biden was born and raised in Scranton, Pennsylvania, and moved with his family to Delaware in 1953 when he was ten years old.\n",
        "    He studied at the University of Delaware before earning his law degree from Syracuse University.\n",
        "    He was elected to the New Castle County Council in 1970 and became the sixth-youngest senator in U.S. history after he was elected to the United States Senate from Delaware in 1972, at age 29.\n",
        "    Biden was the chair or ranking member of the Senate Foreign Relations Committee for 12 years.\n",
        "    He also chaired the Senate Judiciary Committee from 1987 to 1995; led the effort to pass the Violent Crime Control and Law Enforcement Act and the Violence Against Women Act; and oversaw six U.S. Supreme Court confirmation hearings, including the contentious hearings for Robert Bork and Clarence Thomas.\n",
        "    Biden ran unsuccessfully for the Democratic presidential nomination in 1988 and 2008, before becoming Obama's vice president after they won the 2008 presidential election.\n",
        "    During his two terms as vice president, Biden frequently represented the administration in negotiations with congressional Republicans and was a close counselor to President Obama.\n",
        "    Biden and his running mate, Kamala Harris, defeated incumbent Donald Trump in the 2020 presidential election.\n",
        "    Upon inauguration, he became the oldest president in U.S. history and the first to have a female vice president.\n",
        "    Biden signed the American Rescue Plan Act to help the U.S. recover from the COVID-19 pandemic and subsequent recession.\n",
        "    He proposed the American Jobs Plan, aspects of which were incorporated into the bipartisan Infrastructure Investment and Jobs Act.\n",
        "    He proposed the American Families Plan, which was merged with other aspects of the American Jobs Plan into the proposed Build Back Better Act.\n",
        "    After facing opposition in the Senate, the Build Back Better Act's size was reduced and it was comprehensively reworked into the Inflation Reduction Act of 2022, covering deficit reduction, climate change, healthcare, and tax reform.\n",
        "    Biden appointed Ketanji Brown Jackson to the Supreme Court. In foreign policy, he restored the U.S. into the Paris Agreement on climate change.\n",
        "    He completed the withdrawal of U.S. troops from Afghanistan, during which the Afghan government collapsed and the Taliban seized control.\n",
        "    He responded to the 2022 Russian invasion of Ukraine by imposing sanctions on Russia and authorizing foreign aid and weapons shipments to Ukraine. (en)\"\n",
        "\n",
        "\"\"\""
      ],
      "metadata": {
        "id": "Aamka18NAFw8"
      },
      "execution_count": null,
      "outputs": []
    },
    {
      "cell_type": "code",
      "source": [
        "response = model(\n",
        "    prompt,\n",
        "    max_tokens=256,\n",
        "    echo=False,\n",
        "    temperature=0\n",
        ")"
      ],
      "metadata": {
        "colab": {
          "base_uri": "https://localhost:8080/"
        },
        "id": "8LX_EDOWAFqS",
        "outputId": "e83ed318-6124-44bc-dd2a-c3c387b06259"
      },
      "execution_count": null,
      "outputs": [
        {
          "output_type": "stream",
          "name": "stderr",
          "text": [
            "\n",
            "llama_print_timings:        load time =  217078.85 ms\n",
            "llama_print_timings:      sample time =      51.43 ms /   256 runs   (    0.20 ms per token,  4977.64 tokens per second)\n",
            "llama_print_timings: prompt eval time =  272191.90 ms /   645 tokens (  422.00 ms per token,     2.37 tokens per second)\n",
            "llama_print_timings:        eval time =  232933.78 ms /   255 runs   (  913.47 ms per token,     1.09 tokens per second)\n",
            "llama_print_timings:       total time =  505678.63 ms /   900 tokens\n"
          ]
        }
      ]
    },
    {
      "cell_type": "code",
      "source": [
        "print(response['choices'][0]['text'])"
      ],
      "metadata": {
        "id": "4fCDHhKcAX3A",
        "colab": {
          "base_uri": "https://localhost:8080/"
        },
        "outputId": "de5f73d6-e242-4bbf-d92b-2d5d4cf95832"
      },
      "execution_count": null,
      "outputs": [
        {
          "output_type": "stream",
          "name": "stdout",
          "text": [
            "    **Valid triples:**\n",
            "    (Joseph Robinette Biden Jr., born, November 20, 1942)\n",
            "    (Joseph Robinette Biden Jr., is, an American politician)\n",
            "    (Joseph Robinette Biden Jr., is, the 46th and current president of the United States)\n",
            "    (Joseph Robinette Biden Jr., previously served as, the 47th vice president from 2009 to 2017 under President Barack Obama)\n",
            "    (Joseph Robinette Biden Jr., represented, Delaware in the United States Senate from 1973 to 2009)\n",
            "    (Joseph Robinette Biden Jr., was born and raised, in Scranton, Pennsylvania)\n",
            "    (Joseph Robinette Biden Jr., moved with his family, to Delaware in 1953)\n",
            "    (Joseph Robinette Biden Jr., studied at, the University of Delaware)\n",
            "    (Joseph Robinette Biden Jr., earned his law degree from, Syracuse University)\n",
            "    (Joseph Robinette Biden Jr., was elected to, the New Castle County Council in 1970)\n",
            "    (Joseph Robinette Biden Jr., became the sixth-youngest senator in U.S. history after, he was elected to the United States Senate from Delaware in 1972)\n",
            "    (Joseph Robinette Biden Jr., was\n"
          ]
        }
      ]
    },
    {
      "cell_type": "code",
      "source": [],
      "metadata": {
        "id": "o2_j1RHKAsDe"
      },
      "execution_count": null,
      "outputs": []
    },
    {
      "cell_type": "code",
      "source": [
        "prompt = \"\"\"\n",
        "    Using your own understanding of knowledge graph. Identify the available valid triples in the text given below. Please do not return a code to run it. Perform the extraction yourself and return the valid triples in this format (subject, predicate, object). Don't include ambiguos relations and entity \\n\n",
        "\n",
        "        **Text:**\n",
        "    \"Joseph Robinette Biden Jr. (/ˈbaɪdən/; born November 20, 1942) is an American politician who is the 46th and current president of the United States.\n",
        "    A member of the Democratic Party, he previously served as the 47th vice president from 2009 to 2017 under President Barack Obama, and represented Delaware in the United States Senate from 1973 to 2009.\n",
        "    Biden was born and raised in Scranton, Pennsylvania, and moved with his family to Delaware in 1953 when he was ten years old.\n",
        "    He studied at the University of Delaware before earning his law degree from Syracuse University.\n",
        "    He was elected to the New Castle County Council in 1970 and became the sixth-youngest senator in U.S. history after he was elected to the United States Senate from Delaware in 1972, at age 29.\n",
        "    Biden was the chair or ranking member of the Senate Foreign Relations Committee for 12 years.\n",
        "    He also chaired the Senate Judiciary Committee from 1987 to 1995; led the effort to pass the Violent Crime Control and Law Enforcement Act and the Violence Against Women Act; and oversaw six U.S. Supreme Court confirmation hearings, including the contentious hearings for Robert Bork and Clarence Thomas.\n",
        "    Biden ran unsuccessfully for the Democratic presidential nomination in 1988 and 2008, before becoming Obama's vice president after they won the 2008 presidential election.\n",
        "    During his two terms as vice president, Biden frequently represented the administration in negotiations with congressional Republicans and was a close counselor to President Obama.\n",
        "    Biden and his running mate, Kamala Harris, defeated incumbent Donald Trump in the 2020 presidential election.\n",
        "    Upon inauguration, he became the oldest president in U.S. history and the first to have a female vice president.\n",
        "    Biden signed the American Rescue Plan Act to help the U.S. recover from the COVID-19 pandemic and subsequent recession.\n",
        "    He proposed the American Jobs Plan, aspects of which were incorporated into the bipartisan Infrastructure Investment and Jobs Act.\n",
        "    He proposed the American Families Plan, which was merged with other aspects of the American Jobs Plan into the proposed Build Back Better Act.\n",
        "    After facing opposition in the Senate, the Build Back Better Act's size was reduced and it was comprehensively reworked into the Inflation Reduction Act of 2022, covering deficit reduction, climate change, healthcare, and tax reform.\n",
        "    Biden appointed Ketanji Brown Jackson to the Supreme Court. In foreign policy, he restored the U.S. into the Paris Agreement on climate change.\n",
        "    He completed the withdrawal of U.S. troops from Afghanistan, during which the Afghan government collapsed and the Taliban seized control.\n",
        "    He responded to the 2022 Russian invasion of Ukraine by imposing sanctions on Russia and authorizing foreign aid and weapons shipments to Ukraine. (en)\"\n",
        "\n",
        "\"\"\""
      ],
      "metadata": {
        "id": "pMr53jY8FwgZ"
      },
      "execution_count": null,
      "outputs": []
    },
    {
      "cell_type": "code",
      "source": [
        "response = model(\n",
        "    prompt,\n",
        "    max_tokens=256,\n",
        "    echo=False,\n",
        "    temperature=0\n",
        ")"
      ],
      "metadata": {
        "colab": {
          "base_uri": "https://localhost:8080/"
        },
        "id": "-kXpTHoqFwbh",
        "outputId": "f4da1a77-629d-4acd-9a83-81ffad480891"
      },
      "execution_count": null,
      "outputs": [
        {
          "output_type": "stream",
          "name": "stderr",
          "text": [
            "Llama.generate: 49 prefix-match hit, remaining 603 prompt tokens to eval\n",
            "\n",
            "llama_print_timings:        load time =  217078.85 ms\n",
            "llama_print_timings:      sample time =      50.88 ms /   256 runs   (    0.20 ms per token,  5031.94 tokens per second)\n",
            "llama_print_timings: prompt eval time =  263376.51 ms /   603 tokens (  436.78 ms per token,     2.29 tokens per second)\n",
            "llama_print_timings:        eval time =  236483.04 ms /   255 runs   (  927.38 ms per token,     1.08 tokens per second)\n",
            "llama_print_timings:       total time =  500381.41 ms /   858 tokens\n"
          ]
        }
      ]
    },
    {
      "cell_type": "code",
      "source": [
        "print(response['choices'][0]['text'])"
      ],
      "metadata": {
        "colab": {
          "base_uri": "https://localhost:8080/"
        },
        "id": "i3WRkJNRGD8E",
        "outputId": "e8116292-9732-4bdf-ffb6-ab3ea78d3f65"
      },
      "execution_count": null,
      "outputs": [
        {
          "output_type": "stream",
          "name": "stdout",
          "text": [
            "    **Valid triples:**\n",
            "    (Joseph Robinette Biden Jr., born in, November 20, 1942)\n",
            "    (Joseph Robinette Biden Jr., is the, 46th and current president of the United States)\n",
            "    (Joseph Robinette Biden Jr., previously served as, 47th vice president from 2009 to 2017 under President Barack Obama)\n",
            "    (Joseph Robinette Biden Jr., represented, Delaware in the United States Senate from 1973 to 2009)\n",
            "    (Joseph Robinette Biden Jr., was born and raised in, Scranton, Pennsylvania)\n",
            "    (Joseph Robinette Biden Jr., moved with his family to, Delaware in 1953)\n",
            "    (Joseph Robinette Biden Jr., studied at, the University of Delaware)\n",
            "    (Joseph Robinette Biden Jr., earned his law degree from, Syracuse University)\n",
            "    (Joseph Robinette Biden Jr., was elected to, the New Castle County Council in 1970)\n",
            "    (Joseph Robinette Biden Jr., became the sixth-youngest senator in U.S. history after he was elected to, the United States Senate from Delaware in 1972)\n",
            "    (Joseph Robinette Biden Jr., was the chair or ranking member of, the Senate Foreign Relations Committee for \n"
          ]
        }
      ]
    },
    {
      "cell_type": "code",
      "source": [],
      "metadata": {
        "id": "9PN-ttQZGGe2"
      },
      "execution_count": null,
      "outputs": []
    },
    {
      "cell_type": "code",
      "source": [
        "prompt = \"\"\"\n",
        "    Using your own understanding of knowledge graph. Identify the available valid triples in the text given below. Please do not return a code to run it. Perform the extraction yourself and return the valid triples in this format (subject, predicate, object). Don't include ambiguos relations and entity \\n\n",
        "\n",
        "        **Text:**\n",
        "    \"Joseph Robinette Biden Jr. (/ˈbaɪdən/; born November 20, 1942) is an American politician who is the 46th and current president of the United States.\n",
        "    A member of the Democratic Party, he previously served as the 47th vice president from 2009 to 2017 under President Barack Obama, and represented Delaware in the United States Senate from 1973 to 2009.\n",
        "    Biden was born and raised in Scranton, Pennsylvania, and moved with his family to Delaware in 1953 when he was ten years old.\n",
        "    He studied at the University of Delaware before earning his law degree from Syracuse University.\n",
        "    He was elected to the New Castle County Council in 1970 and became the sixth-youngest senator in U.S. history after he was elected to the United States Senate from Delaware in 1972, at age 29.\n",
        "    Biden was the chair or ranking member of the Senate Foreign Relations Committee for 12 years.\n",
        "    He also chaired the Senate Judiciary Committee from 1987 to 1995; led the effort to pass the Violent Crime Control and Law Enforcement Act and the Violence Against Women Act; and oversaw six U.S. Supreme Court confirmation hearings, including the contentious hearings for Robert Bork and Clarence Thomas.\n",
        "    Biden ran unsuccessfully for the Democratic presidential nomination in 1988 and 2008, before becoming Obama's vice president after they won the 2008 presidential election.\n",
        "    During his two terms as vice president, Biden frequently represented the administration in negotiations with congressional Republicans and was a close counselor to President Obama.\n",
        "    Biden and his running mate, Kamala Harris, defeated incumbent Donald Trump in the 2020 presidential election.\n",
        "    Upon inauguration, he became the oldest president in U.S. history and the first to have a female vice president.\n",
        "    Biden signed the American Rescue Plan Act to help the U.S. recover from the COVID-19 pandemic and subsequent recession.\n",
        "    He proposed the American Jobs Plan, aspects of which were incorporated into the bipartisan Infrastructure Investment and Jobs Act.\n",
        "    He proposed the American Families Plan, which was merged with other aspects of the American Jobs Plan into the proposed Build Back Better Act.\n",
        "    After facing opposition in the Senate, the Build Back Better Act's size was reduced and it was comprehensively reworked into the Inflation Reduction Act of 2022, covering deficit reduction, climate change, healthcare, and tax reform.\n",
        "    Biden appointed Ketanji Brown Jackson to the Supreme Court. In foreign policy, he restored the U.S. into the Paris Agreement on climate change.\n",
        "    He completed the withdrawal of U.S. troops from Afghanistan, during which the Afghan government collapsed and the Taliban seized control.\n",
        "    He responded to the 2022 Russian invasion of Ukraine by imposing sanctions on Russia and authorizing foreign aid and weapons shipments to Ukraine. (en)\"\n",
        "\n",
        "\"\"\""
      ],
      "metadata": {
        "id": "HHY4_U-xGHEV"
      },
      "execution_count": null,
      "outputs": []
    },
    {
      "cell_type": "code",
      "source": [
        "response = model(\n",
        "    prompt,\n",
        "    max_tokens=256,\n",
        "    echo=False,\n",
        "    temperature=0.2\n",
        ")"
      ],
      "metadata": {
        "colab": {
          "base_uri": "https://localhost:8080/"
        },
        "id": "_h-s8ZgCGG-i",
        "outputId": "045ba7bf-6c24-494a-803c-4e5ac122fa01"
      },
      "execution_count": null,
      "outputs": [
        {
          "output_type": "stream",
          "name": "stderr",
          "text": [
            "Llama.generate: 651 prefix-match hit, remaining 1 prompt tokens to eval\n",
            "\n",
            "llama_print_timings:        load time =  217078.85 ms\n",
            "llama_print_timings:      sample time =      31.75 ms /   256 runs   (    0.12 ms per token,  8062.48 tokens per second)\n",
            "llama_print_timings: prompt eval time =       0.00 ms /     0 tokens (    -nan ms per token,     -nan tokens per second)\n",
            "llama_print_timings:        eval time =  247928.70 ms /   256 runs   (  968.47 ms per token,     1.03 tokens per second)\n",
            "llama_print_timings:       total time =  248430.21 ms /   256 tokens\n"
          ]
        }
      ]
    },
    {
      "cell_type": "code",
      "source": [
        "print(response['choices'][0]['text'])"
      ],
      "metadata": {
        "colab": {
          "base_uri": "https://localhost:8080/"
        },
        "id": "peZSKw_0Iklj",
        "outputId": "d016f103-e19b-46d1-9f59-a136cd200509"
      },
      "execution_count": null,
      "outputs": [
        {
          "output_type": "stream",
          "name": "stdout",
          "text": [
            "    **Valid Triples:**\n",
            "    (Joseph Robinette Biden Jr., born, November 20, 1942)\n",
            "    (Joseph Robinette Biden Jr., is, an American politician)\n",
            "    (Joseph Robinette Biden Jr., is, the 46th and current president of the United States)\n",
            "    (Joseph Robinette Biden Jr., previously served as, the 47th vice president from 2009 to 2017 under President Barack Obama)\n",
            "    (Joseph Robinette Biden Jr., represented, Delaware in the United States Senate from 1973 to 2009)\n",
            "    (Joseph Robinette Biden Jr., was born and raised, in Scranton, Pennsylvania)\n",
            "    (Joseph Robinette Biden Jr., moved with his family, to Delaware in 1953)\n",
            "    (Joseph Robinette Biden Jr., studied at, the University of Delaware)\n",
            "    (Joseph Robinette Biden Jr., earned his law degree from, Syracuse University)\n",
            "    (Joseph Robinette Biden Jr., was elected to, the New Castle County Council in 1970)\n",
            "    (Joseph Robinette Biden Jr., became the sixth-youngest senator in U.S. history after he was elected to, the United States Senate from Delaware in 1972)\n",
            "    (Joseph Robinette Biden Jr.,\n"
          ]
        }
      ]
    },
    {
      "cell_type": "code",
      "source": [],
      "metadata": {
        "id": "WHfJbN9eIoha"
      },
      "execution_count": null,
      "outputs": []
    },
    {
      "cell_type": "code",
      "source": [
        "prompt = \"\"\"\n",
        "    Using your own understanding of knowledge graph. Identify the available valid triples in the text given below. Please do not return a code to run it. Perform the extraction yourself and return the valid triples in this format (subject, predicate, object). Don't include ambiguos relations and entity \\n\n",
        "\n",
        "        **Text:**\n",
        "    \"Joseph Robinette Biden Jr. (/ˈbaɪdən/; born November 20, 1942) is an American politician who is the 46th and current president of the United States.\n",
        "    A member of the Democratic Party, he previously served as the 47th vice president from 2009 to 2017 under President Barack Obama, and represented Delaware in the United States Senate from 1973 to 2009.\n",
        "    Biden was born and raised in Scranton, Pennsylvania, and moved with his family to Delaware in 1953 when he was ten years old.\n",
        "    He studied at the University of Delaware before earning his law degree from Syracuse University.\n",
        "    He was elected to the New Castle County Council in 1970 and became the sixth-youngest senator in U.S. history after he was elected to the United States Senate from Delaware in 1972, at age 29.\n",
        "    Biden was the chair or ranking member of the Senate Foreign Relations Committee for 12 years.\n",
        "    He also chaired the Senate Judiciary Committee from 1987 to 1995; led the effort to pass the Violent Crime Control and Law Enforcement Act and the Violence Against Women Act; and oversaw six U.S. Supreme Court confirmation hearings, including the contentious hearings for Robert Bork and Clarence Thomas.\n",
        "    Biden ran unsuccessfully for the Democratic presidential nomination in 1988 and 2008, before becoming Obama's vice president after they won the 2008 presidential election.\n",
        "    During his two terms as vice president, Biden frequently represented the administration in negotiations with congressional Republicans and was a close counselor to President Obama.\n",
        "    Biden and his running mate, Kamala Harris, defeated incumbent Donald Trump in the 2020 presidential election.\n",
        "    Upon inauguration, he became the oldest president in U.S. history and the first to have a female vice president.\n",
        "    Biden signed the American Rescue Plan Act to help the U.S. recover from the COVID-19 pandemic and subsequent recession.\n",
        "    He proposed the American Jobs Plan, aspects of which were incorporated into the bipartisan Infrastructure Investment and Jobs Act.\n",
        "    He proposed the American Families Plan, which was merged with other aspects of the American Jobs Plan into the proposed Build Back Better Act.\n",
        "    After facing opposition in the Senate, the Build Back Better Act's size was reduced and it was comprehensively reworked into the Inflation Reduction Act of 2022, covering deficit reduction, climate change, healthcare, and tax reform.\n",
        "    Biden appointed Ketanji Brown Jackson to the Supreme Court. In foreign policy, he restored the U.S. into the Paris Agreement on climate change.\n",
        "    He completed the withdrawal of U.S. troops from Afghanistan, during which the Afghan government collapsed and the Taliban seized control.\n",
        "    He responded to the 2022 Russian invasion of Ukraine by imposing sanctions on Russia and authorizing foreign aid and weapons shipments to Ukraine. (en)\"\n",
        "\n",
        "\"\"\""
      ],
      "metadata": {
        "id": "_wXNVsEMIoct"
      },
      "execution_count": null,
      "outputs": []
    },
    {
      "cell_type": "code",
      "source": [
        "response = model(\n",
        "    prompt,\n",
        "    max_tokens=256,\n",
        "    echo=False,\n",
        "    temperature=0.7\n",
        ")"
      ],
      "metadata": {
        "colab": {
          "base_uri": "https://localhost:8080/"
        },
        "id": "SVNzcr-iKuTJ",
        "outputId": "d3276320-7f8d-4d68-9338-eaf8f735f6b9"
      },
      "execution_count": null,
      "outputs": [
        {
          "output_type": "stream",
          "name": "stderr",
          "text": [
            "Llama.generate: 651 prefix-match hit, remaining 1 prompt tokens to eval\n",
            "\n",
            "llama_print_timings:        load time =  217078.85 ms\n",
            "llama_print_timings:      sample time =      31.14 ms /   256 runs   (    0.12 ms per token,  8220.67 tokens per second)\n",
            "llama_print_timings: prompt eval time =       0.00 ms /     0 tokens (    -nan ms per token,     -nan tokens per second)\n",
            "llama_print_timings:        eval time =  253898.41 ms /   256 runs   (  991.79 ms per token,     1.01 tokens per second)\n",
            "llama_print_timings:       total time =  254432.98 ms /   256 tokens\n"
          ]
        }
      ]
    },
    {
      "cell_type": "code",
      "source": [
        "print(response['choices'][0]['text'])"
      ],
      "metadata": {
        "colab": {
          "base_uri": "https://localhost:8080/"
        },
        "id": "nt0KQg1lKuNv",
        "outputId": "5b30368d-707a-44c6-aee7-53108737cc13"
      },
      "execution_count": null,
      "outputs": [
        {
          "output_type": "stream",
          "name": "stdout",
          "text": [
            "    **Valid Triples:**\n",
            "    (1) (Joseph Robinette Biden Jr., was born in, Scranton, Pennsylvania)\n",
            "    (2) (Joseph Robinette Biden Jr., was raised in, Scranton, Pennsylvania)\n",
            "    (3) (Joseph Robinette Biden Jr., moved to, Delaware)\n",
            "    (4) (Joseph Robinette Biden Jr., studied at, University of Delaware)\n",
            "    (5) (Joseph Robinette Biden Jr., earned his law degree from, Syracuse University)\n",
            "    (6) (Joseph Robinette Biden Jr., was elected to, New Castle County Council)\n",
            "    (7) (Joseph Robinette Biden Jr., became the sixth-youngest senator in U.S. history after being elected to, United States Senate from Delaware)\n",
            "    (8) (Joseph Robinette Biden Jr., was the chair or ranking member of, Senate Foreign Relations Committee)\n",
            "    (9) (Joseph Robinette Biden Jr., chaired the, Senate Judiciary Committee)\n",
            "    (10) (Joseph Robinette Biden Jr., led the effort to pass, Violent Crime Control and Law Enforcement Act)\n",
            "    (11) (Joseph Robinette Biden Jr., led the effort to pass, Violence Against Women Act)\n",
            "    (12) (Joseph Robinette Biden Jr.,\n"
          ]
        }
      ]
    },
    {
      "cell_type": "code",
      "source": [],
      "metadata": {
        "id": "7o7ILYTZKuFa"
      },
      "execution_count": null,
      "outputs": []
    },
    {
      "cell_type": "code",
      "source": [
        "prompt = \"\"\"\n",
        "    Using your own understanding of knowledge graph. Identify the available valid triples in the text given below. Please do not return a code to run it. Perform the extraction yourself and return the valid triples in this format (subject, predicate, object). Keep the relations and entity short and meaningful \\n\n",
        "\n",
        "        **Text:**\n",
        "    \"Joseph Robinette Biden Jr. (/ˈbaɪdən/; born November 20, 1942) is an American politician who is the 46th and current president of the United States.\n",
        "    A member of the Democratic Party, he previously served as the 47th vice president from 2009 to 2017 under President Barack Obama, and represented Delaware in the United States Senate from 1973 to 2009.\n",
        "    Biden was born and raised in Scranton, Pennsylvania, and moved with his family to Delaware in 1953 when he was ten years old.\n",
        "    He studied at the University of Delaware before earning his law degree from Syracuse University.\n",
        "    He was elected to the New Castle County Council in 1970 and became the sixth-youngest senator in U.S. history after he was elected to the United States Senate from Delaware in 1972, at age 29.\n",
        "    Biden was the chair or ranking member of the Senate Foreign Relations Committee for 12 years.\n",
        "    He also chaired the Senate Judiciary Committee from 1987 to 1995; led the effort to pass the Violent Crime Control and Law Enforcement Act and the Violence Against Women Act; and oversaw six U.S. Supreme Court confirmation hearings, including the contentious hearings for Robert Bork and Clarence Thomas.\n",
        "    Biden ran unsuccessfully for the Democratic presidential nomination in 1988 and 2008, before becoming Obama's vice president after they won the 2008 presidential election.\n",
        "    During his two terms as vice president, Biden frequently represented the administration in negotiations with congressional Republicans and was a close counselor to President Obama.\n",
        "    Biden and his running mate, Kamala Harris, defeated incumbent Donald Trump in the 2020 presidential election.\n",
        "    Upon inauguration, he became the oldest president in U.S. history and the first to have a female vice president.\n",
        "    Biden signed the American Rescue Plan Act to help the U.S. recover from the COVID-19 pandemic and subsequent recession.\n",
        "    He proposed the American Jobs Plan, aspects of which were incorporated into the bipartisan Infrastructure Investment and Jobs Act.\n",
        "    He proposed the American Families Plan, which was merged with other aspects of the American Jobs Plan into the proposed Build Back Better Act.\n",
        "    After facing opposition in the Senate, the Build Back Better Act's size was reduced and it was comprehensively reworked into the Inflation Reduction Act of 2022, covering deficit reduction, climate change, healthcare, and tax reform.\n",
        "    Biden appointed Ketanji Brown Jackson to the Supreme Court. In foreign policy, he restored the U.S. into the Paris Agreement on climate change.\n",
        "    He completed the withdrawal of U.S. troops from Afghanistan, during which the Afghan government collapsed and the Taliban seized control.\n",
        "    He responded to the 2022 Russian invasion of Ukraine by imposing sanctions on Russia and authorizing foreign aid and weapons shipments to Ukraine. (en)\"\n",
        "\n",
        "\"\"\""
      ],
      "metadata": {
        "id": "UONtcNVgMLca"
      },
      "execution_count": null,
      "outputs": []
    },
    {
      "cell_type": "code",
      "source": [
        "response = model(\n",
        "    prompt,\n",
        "    max_tokens=256,\n",
        "    echo=False,\n",
        "    temperature=0.7\n",
        ")"
      ],
      "metadata": {
        "colab": {
          "base_uri": "https://localhost:8080/"
        },
        "id": "VGcbAH3yMLU2",
        "outputId": "0aa0215a-26e0-48ee-a5f3-96a2edaa290d"
      },
      "execution_count": null,
      "outputs": [
        {
          "output_type": "stream",
          "name": "stderr",
          "text": [
            "Llama.generate: 50 prefix-match hit, remaining 602 prompt tokens to eval\n",
            "\n",
            "llama_print_timings:        load time =  217078.85 ms\n",
            "llama_print_timings:      sample time =      31.79 ms /   256 runs   (    0.12 ms per token,  8052.85 tokens per second)\n",
            "llama_print_timings: prompt eval time =  262373.96 ms /   602 tokens (  435.84 ms per token,     2.29 tokens per second)\n",
            "llama_print_timings:        eval time =  241323.11 ms /   255 runs   (  946.37 ms per token,     1.06 tokens per second)\n",
            "llama_print_timings:       total time =  504194.81 ms /   857 tokens\n"
          ]
        }
      ]
    },
    {
      "cell_type": "code",
      "source": [
        "print(response['choices'][0]['text'])"
      ],
      "metadata": {
        "colab": {
          "base_uri": "https://localhost:8080/"
        },
        "id": "tKs7phitMLME",
        "outputId": "8c32667d-d97e-45a3-b06a-da3bd2b73c2d"
      },
      "execution_count": null,
      "outputs": [
        {
          "output_type": "stream",
          "name": "stdout",
          "text": [
            "    **Valid triples:**\n",
            "    (Joe Biden, nationality, American)\n",
            "    (Joe Biden, politician, yes)\n",
            "    (Joe Biden, president, yes)\n",
            "    (Joe Biden, vice president, yes)\n",
            "    (Joe Biden, senator, yes)\n",
            "    (Joe Biden, born, Scranton, Pennsylvania)\n",
            "    (Joe Biden, studied, University of Delaware)\n",
            "    (Joe Biden, education, law degree, Syracuse University)\n",
            "    (Joe Biden, New Castle County Council, member, yes)\n",
            "    (Joe Biden, U.S. Senate, senator, yes)\n",
            "    (Joe Biden, sixth-youngest senator, yes)\n",
            "    (Joe Biden, Senate Foreign Relations Committee, chair, yes)\n",
            "    (Joe Biden, Senate Judiciary Committee, chair, yes)\n",
            "    (Joe Biden, Robert Bork, Supreme Court confirmation hearing, yes)\n",
            "    (Joe Biden, Clarence Thomas, Supreme Court confirmation hearing, yes)\n",
            "    (Joe Biden, presidential election, 2008, yes)\n",
            "    (Joe Biden, presidential election, 2020, yes)\n",
            "    (Joe Biden, Donald Trump, presidential election, defeated, yes)\n",
            "    (Joe Biden, Kamala Harris, presidential election, running mate, yes)\n",
            "    (Joe Biden, American Rescue Plan Act\n"
          ]
        }
      ]
    },
    {
      "cell_type": "code",
      "source": [],
      "metadata": {
        "id": "tg2N3plCMoA3"
      },
      "execution_count": null,
      "outputs": []
    },
    {
      "cell_type": "code",
      "source": [
        "prompt = \"\"\"\n",
        "\n",
        "    Given the below Text. Perform Named Entity Recognition (NER) and extract knowledge graph triplets from the text. Identify relevant entity types and predicates based on the content of the text.\n",
        "\n",
        "        **Instructions:**\n",
        "        1. Extract triplets (subject-predicate-object) based on the identified entities and predicates.\n",
        "        2. Please do not return a code to run it. Perform the extraction yourself and return the valid triples in this format (subject, predicate, object).\n",
        "        3. Keep the relations and entity short and meaningful \\n\n",
        "\n",
        "\n",
        "        **Text:**\n",
        "    \"Joseph Robinette Biden Jr. (/ˈbaɪdən/; born November 20, 1942) is an American politician who is the 46th and current president of the United States.\n",
        "    A member of the Democratic Party, he previously served as the 47th vice president from 2009 to 2017 under President Barack Obama, and represented Delaware in the United States Senate from 1973 to 2009.\n",
        "    Biden was born and raised in Scranton, Pennsylvania, and moved with his family to Delaware in 1953 when he was ten years old.\n",
        "    He studied at the University of Delaware before earning his law degree from Syracuse University.\n",
        "    He was elected to the New Castle County Council in 1970 and became the sixth-youngest senator in U.S. history after he was elected to the United States Senate from Delaware in 1972, at age 29.\n",
        "    Biden was the chair or ranking member of the Senate Foreign Relations Committee for 12 years.\n",
        "    He also chaired the Senate Judiciary Committee from 1987 to 1995; led the effort to pass the Violent Crime Control and Law Enforcement Act and the Violence Against Women Act; and oversaw six U.S. Supreme Court confirmation hearings, including the contentious hearings for Robert Bork and Clarence Thomas.\n",
        "    Biden ran unsuccessfully for the Democratic presidential nomination in 1988 and 2008, before becoming Obama's vice president after they won the 2008 presidential election.\n",
        "    During his two terms as vice president, Biden frequently represented the administration in negotiations with congressional Republicans and was a close counselor to President Obama.\n",
        "    Biden and his running mate, Kamala Harris, defeated incumbent Donald Trump in the 2020 presidential election.\n",
        "    Upon inauguration, he became the oldest president in U.S. history and the first to have a female vice president.\n",
        "    Biden signed the American Rescue Plan Act to help the U.S. recover from the COVID-19 pandemic and subsequent recession.\n",
        "    He proposed the American Jobs Plan, aspects of which were incorporated into the bipartisan Infrastructure Investment and Jobs Act.\n",
        "    He proposed the American Families Plan, which was merged with other aspects of the American Jobs Plan into the proposed Build Back Better Act.\n",
        "    After facing opposition in the Senate, the Build Back Better Act's size was reduced and it was comprehensively reworked into the Inflation Reduction Act of 2022, covering deficit reduction, climate change, healthcare, and tax reform.\n",
        "    Biden appointed Ketanji Brown Jackson to the Supreme Court. In foreign policy, he restored the U.S. into the Paris Agreement on climate change.\n",
        "    He completed the withdrawal of U.S. troops from Afghanistan, during which the Afghan government collapsed and the Taliban seized control.\n",
        "    He responded to the 2022 Russian invasion of Ukraine by imposing sanctions on Russia and authorizing foreign aid and weapons shipments to Ukraine. (en)\"\n",
        "\n",
        "\"\"\""
      ],
      "metadata": {
        "id": "zL54_G2EMntD"
      },
      "execution_count": null,
      "outputs": []
    },
    {
      "cell_type": "code",
      "source": [
        "response = model(\n",
        "    prompt,\n",
        "    max_tokens=2048,\n",
        "    echo=False,\n",
        "    temperature=0.7\n",
        ")"
      ],
      "metadata": {
        "colab": {
          "base_uri": "https://localhost:8080/"
        },
        "id": "JNLFnwy7OwjH",
        "outputId": "44e4c198-3924-4fcc-ea74-cb5d3eb83dcf"
      },
      "execution_count": null,
      "outputs": [
        {
          "output_type": "stream",
          "name": "stderr",
          "text": [
            "Llama.generate: 703 prefix-match hit, remaining 1 prompt tokens to eval\n",
            "\n",
            "llama_print_timings:        load time =  217078.85 ms\n",
            "llama_print_timings:      sample time =     171.00 ms /  1344 runs   (    0.13 ms per token,  7859.65 tokens per second)\n",
            "llama_print_timings: prompt eval time =       0.00 ms /     0 tokens (    -nan ms per token,     -nan tokens per second)\n",
            "llama_print_timings:        eval time = 1344091.91 ms /  1344 runs   ( 1000.07 ms per token,     1.00 tokens per second)\n",
            "llama_print_timings:       total time = 1348989.56 ms /  1344 tokens\n"
          ]
        }
      ]
    },
    {
      "cell_type": "code",
      "source": [
        "print(response['choices'][0]['text'])"
      ],
      "metadata": {
        "colab": {
          "base_uri": "https://localhost:8080/"
        },
        "id": "OUJgSOJ_OwbY",
        "outputId": "9fd9fab6-4423-4d8c-de60-8e4ceabace48"
      },
      "execution_count": null,
      "outputs": [
        {
          "output_type": "stream",
          "name": "stdout",
          "text": [
            "    **Entities and Relations**\n",
            "    - Person: Biden, Obama, Harris, Trump, Jackson, Bork, Thomas, Biden (family), Biden (parents)\n",
            "    - Place: Scranton, Pennsylvania, Delaware, United States, New Castle County, Syracuse University, University of Delaware, Afghanistan, Ukraine, Russia\n",
            "    - Event: Presidential Election, Inauguration, COVID-19 pandemic, U.S. Supreme Court confirmation hearings\n",
            "    - Organization: Democratic Party, Senate Foreign Relations Committee, Senate Judiciary Committee, U.S. Supreme Court\n",
            "    - Predicate: born, raised, studied, elected, served, chair, ranking member, led, passed, defeated, signed, proposed, incorporated, merged, reduced, reworked, appointed, restored, completed, responded, imposed, authorized\n",
            "\n",
            "    **Triples**\n",
            "    (Biden, born, November 20, 1942)\n",
            "    (Biden, raised, Scranton, Pennsylvania)\n",
            "    (Biden, studied, University of Delaware)\n",
            "    (Biden, studied, Syracuse University)\n",
            "    (Biden, elected, New Castle County Council)\n",
            "    (Biden, elected, United States Senate from Delaware)\n",
            "    (Biden, served, Vice President)\n",
            "    (Biden, served, President\n"
          ]
        }
      ]
    },
    {
      "cell_type": "code",
      "source": [
        "print(response['choices'][0]['text'])"
      ],
      "metadata": {
        "colab": {
          "base_uri": "https://localhost:8080/"
        },
        "id": "YLV9SrkdPcQJ",
        "outputId": "e61e5b25-19c8-440b-fc3c-a005d26084cf"
      },
      "execution_count": null,
      "outputs": [
        {
          "output_type": "stream",
          "name": "stdout",
          "text": [
            "    Here is the extracted knowledge graph triplets:\n",
            "\n",
            "1. (Joe Biden, president_of, United States)\n",
            "2. (Joe Biden, vice_president_of, Barack Obama)\n",
            "3. (Joe Biden, represented_in_Senate, Delaware)\n",
            "4. (Joe Biden, born_in, Scranton, Pennsylvania)\n",
            "5. (Joe Biden, moved_to, Delaware)\n",
            "6. (Joe Biden, studied_at, University of Delaware)\n",
            "7. (Joe Biden, earned_degree_from, Syracuse University)\n",
            "8. (Joe Biden, elected_to_New_Castle_County_Council, 1970)\n",
            "9. (Joe Biden, became_sixth_youngest_senator, 1972)\n",
            "10. (Joe Biden, chaired_Senate_Foreign_Relations_Committee, 12 years)\n",
            "11. (Joe Biden, chaired_Senate_Judiciary_Committee, 1987-1995)\n",
            "12. (Joe Biden, led_effort_to_pass, Violent Crime Control and Law Enforcement Act)\n",
            "13. (Joe Biden, led_effort_to_pass, Violence Against Women Act)\n",
            "14. (Joe Biden, oversaw_Supreme_Court_confirmation_hearings, 6)\n",
            "15. (Joe Biden, ran_for_president, 1988 and 2008)\n",
            "16. (Joe Biden, became_Obama's_vice_president, 2008)\n",
            "17. (Joe Biden, defeated_in_presidential_election, Donald Trump)\n",
            "18. (Joe Biden, became_oldest_president, 2020)\n",
            "19. (Joe Biden, became_first_female_president, 2020)\n",
            "20. (Joe Biden, signed_American_Rescue_Plan_Act, 2020)\n",
            "21. (Joe Biden, proposed_American_Jobs_Plan, 2020)\n",
            "22. (Joe Biden, proposed_American_Families_Plan, 2020)\n",
            "23. (Joe Biden, appointed_Ketanji_Brown_Jackson_to_Supreme_Court, 2020)\n",
            "24. (Joe Biden, restored_U.S._into_Paris_Agreement, 2020)\n",
            "25. (Joe Biden, completed_withdrawal_of_troops_from_Afghanistan, 2020)\n",
            "26. (Joe Biden, responded_to_Russian_invasion_of_Ukraine, 2022)\n",
            "\n",
            "Note: I have kept the relations and entities short and meaningful as per the instructions.\n",
            "\n",
            "Here is the Python code to extract the knowledge graph triplets from the text:\n",
            "\n",
            "```python\n",
            "import re\n",
            "\n",
            "def extract_triplets(text):\n",
            "    # Define the entities and predicates\n",
            "    entities = ['Joe Biden', 'Barack Obama', 'Delaware', 'Scranton', 'Pennsylvania', 'University of Delaware', 'Syracuse University', 'New Castle County Council', 'Senate Foreign Relations Committee', 'Senate Judiciary Committee', 'Violent Crime Control and Law Enforcement Act', 'Violence Against Women Act', 'Supreme Court', 'Donald Trump', 'Ketanji Brown Jackson', 'Paris Agreement', 'Afghanistan', 'Ukraine', 'Russia']\n",
            "    predicates = ['president_of', 'vice_president_of', 'represented_in_Senate', 'born_in', 'moved_to', 'studied_at', 'earned_degree_from', 'elected_to_New_Castle_County_Council', 'became_sixth_youngest_senator', 'chaired_Senate_Foreign_Relations_Committee', 'chaired_Senate_Judiciary_Committee', 'led_effort_to_pass', 'oversaw_Supreme_Court_confirmation_hearings', 'ran_for_president', 'became_Obama\\'s_vice_president', 'defeated_in_presidential_election', 'became_oldest_president', 'became_first_female_president', 'signed_American_Rescue_Plan_Act', 'proposed_American_Jobs_Plan', 'proposed_American_Families_Plan', 'appointed_Ketanji_Brown_Jackson_to_Supreme_Court', 'restored_U.S._into_Paris_Agreement', 'completed_withdrawal_of_troops_from_Afghanistan', 'responded_to_Russian_invasion_of_Ukraine']\n",
            "\n",
            "    # Initialize the triplets list\n",
            "    triplets = []\n",
            "\n",
            "    # Extract the triplets\n",
            "    for entity in entities:\n",
            "        for predicate in predicates:\n",
            "            if predicate in text:\n",
            "                triplet = (entity, predicate, re.sub(entity, '', text).strip())\n",
            "                triplets.append(triplet)\n",
            "\n",
            "    return triplets\n",
            "\n",
            "text = \"\"\"...\"\"\"\n",
            "triplets = extract_triplets(text)\n",
            "for triplet in triplets:\n",
            "    print(triplet)\n",
            "```\n",
            "\n",
            "Note: The above code is just a sample code to demonstrate the extraction of knowledge graph triplets. It may not be perfect and may need to be modified based on the specific requirements of your project. Also, the code does not handle cases where the text contains multiple instances of the same entity or predicate. It simply extracts the first occurrence of each entity and predicate. You may need to modify the code to handle such cases. \n",
            "\n",
            "Also, the code uses regular expressions to extract the entities and predicates, which may not be the most efficient or accurate way to do so. You may want to consider using a more sophisticated NLP library, such as spaCy or Stanford CoreNLP, which can provide more accurate and efficient entity recognition and relation extraction. \n",
            "\n",
            "Finally, the code does not handle cases where the text contains ambiguous or unclear information. It simply extracts the most obvious triplets based on the text. You may want to consider adding additional logic to handle such cases, such as using a knowledge base or a rule-based system to disambiguate the entities and predicates. \n",
            "\n",
            "I hope this helps! Let me know if you have any questions or need further clarification. \n",
            "\n",
            "Here are some additional resources that may be helpful:\n",
            "\n",
            "*   [spaCy: Industrial-strength Natural Language Processing](https://spacy.io/)\n",
            "*   [Stanford CoreNLP: A Java library for Natural Language Processing](https://stanfordnlp.github.io/CoreNLP/)\n",
            "*   [Named Entity Recognition (NER) with spaCy](https://spacy.io/usage/linguistic-features#named-entities)\n",
            "*   [Relation Extraction with spaCy](https://spacy.io/usage/linguistic-features#relation-extraction)\n",
            "*   [Knowledge Graph Triplets: A Survey](https://arxiv.org/abs/1809.\n"
          ]
        }
      ]
    },
    {
      "cell_type": "code",
      "source": [],
      "metadata": {
        "id": "ZOFzEZlrOwXE"
      },
      "execution_count": null,
      "outputs": []
    },
    {
      "cell_type": "code",
      "execution_count": null,
      "metadata": {
        "colab": {
          "base_uri": "https://localhost:8080/",
          "height": 53
        },
        "id": "6DrgoUd-vB6k",
        "outputId": "fbe87bd8-5f6f-4db5-ac25-b8cee79c8ec3"
      },
      "outputs": [
        {
          "data": {
            "application/vnd.google.colaboratory.intrinsic+json": {
              "type": "string"
            },
            "text/plain": [
              "'1. Identify relevant entity types present in the text.\\n        2. Identify relevant predicates (relationships) between entities in the text.\\n        3. Extract entities and their types.\\n        4. Extract triplets (subject-predicate-object) based on the identified entities and predicates.\\n        5. Output the extracted knowledge graph triplets in the specified format.'"
            ]
          },
          "execution_count": 18,
          "metadata": {},
          "output_type": "execute_result"
        }
      ],
      "source": [
        "\"\"\"1. Identify relevant entity types present in the text.\n",
        "        2. Identify relevant predicates (relationships) between entities in the text.\n",
        "        3. Extract entities and their types.\n",
        "        4. Extract triplets (subject-predicate-object) based on the identified entities and predicates.\n",
        "        5. Output the extracted knowledge graph triplets in the specified format.\"\"\""
      ]
    },
    {
      "cell_type": "code",
      "execution_count": null,
      "metadata": {
        "id": "Q_eePrgF9clv"
      },
      "outputs": [],
      "source": []
    }
  ],
  "metadata": {
    "colab": {
      "provenance": []
    },
    "kernelspec": {
      "display_name": "Python 3",
      "name": "python3"
    },
    "language_info": {
      "name": "python"
    }
  },
  "nbformat": 4,
  "nbformat_minor": 0
}