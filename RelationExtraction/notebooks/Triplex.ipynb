{
  "cells": [
    {
      "cell_type": "code",
      "source": [
        "!huggingface-cli download bartowski/Triplex-GGUF --include \"Triplex-Q4_K_M.gguf\" --local-dir ./\n"
      ],
      "metadata": {
        "id": "jIdheKiZKq13"
      },
      "execution_count": null,
      "outputs": []
    },
    {
      "cell_type": "code",
      "execution_count": null,
      "metadata": {
        "id": "-n_kilxIy7Qh"
      },
      "outputs": [],
      "source": [
        "# !CMAKE_ARGS=\"-DGGML_CUDA=on\" pip install llama-cpp-python\n",
        "# !CMAKE_ARGS=\"-DLLAMA_CUBLAS=on\" FORCE_CMAKE=1 pip install llama-cpp-python --no-cache-dir\n",
        "!pip install llama-cpp-python"
      ]
    },
    {
      "cell_type": "code",
      "source": [
        "import json\n",
        "from llama_cpp import Llama"
      ],
      "metadata": {
        "id": "OuHLA4atODzB"
      },
      "execution_count": null,
      "outputs": []
    },
    {
      "cell_type": "code",
      "source": [
        "model = Llama(model_path=\"/content/Triplex-Q4_K_M.gguf\", n_ctx=2048, n_gpu_layers=-1)"
      ],
      "metadata": {
        "id": "f8NbOTHhOrTe"
      },
      "execution_count": null,
      "outputs": []
    },
    {
      "cell_type": "code",
      "source": [
        "def triplextract(model, text, entity_types, predicates):\n",
        "    input_format = \"\"\"Perform Named Entity Recognition (NER) and extract knowledge graph triplets from the text. NER identifies named entities of given entity types, and triple extraction identifies relationships between entities using specified predicates. return only the triples.\n",
        "\n",
        "        **Entity Types:**\n",
        "        {entity_types}\n",
        "\n",
        "        **Predicates:**\n",
        "        {predicates}\n",
        "\n",
        "        **Text:**\n",
        "        {text}\n",
        "        \"\"\"\n",
        "\n",
        "    message = input_format.format(\n",
        "                entity_types=json.dumps(entity_types),\n",
        "                predicates=json.dumps(predicates),\n",
        "                text=text)\n",
        "\n",
        "    output = model.create_completion(\n",
        "        message,\n",
        "        max_tokens=2048,\n",
        "        stop=[\"</s>\", \"Human:\", \"H:\"],  # Add appropriate stop tokens\n",
        "        echo=False\n",
        "    )\n",
        "    return output['choices'][0]['text'].strip()"
      ],
      "metadata": {
        "id": "SQZeJ2ZtZr17"
      },
      "execution_count": null,
      "outputs": []
    },
    {
      "cell_type": "code",
      "execution_count": null,
      "metadata": {
        "id": "7K3ROgVWtZXE"
      },
      "outputs": [],
      "source": [
        "entity_types = [ \"LOCATION\", \"POSITION\", \"DATE\", \"CITY\", \"COUNTRY\", \"NUMBER\" ]\n",
        "predicates = [ \"POPULATION\", \"AREA\" ]"
      ]
    },
    {
      "cell_type": "code",
      "execution_count": null,
      "metadata": {
        "id": "5Nxgs-48tc5x"
      },
      "outputs": [],
      "source": [
        "text = \"\"\"\n",
        "San Francisco,[24] officially the City and County of San Francisco, is a commercial, financial, and cultural center in Northern California.\n",
        "\n",
        "With a population of 808,437 residents as of 2022, San Francisco is the fourth most populous city in the U.S. state of California behind Los Angeles, San Diego, and San Jose.\n",
        "\"\"\""
      ]
    },
    {
      "cell_type": "code",
      "execution_count": null,
      "metadata": {
        "id": "bqhW0dduti4G",
        "colab": {
          "base_uri": "https://localhost:8080/"
        },
        "outputId": "22508d77-7b9e-4ed7-e3c0-54865bf99929"
      },
      "outputs": [
        {
          "output_type": "stream",
          "name": "stderr",
          "text": [
            "Llama.generate: 200 prefix-match hit, remaining 1 prompt tokens to eval\n",
            "\n",
            "llama_print_timings:        load time =   55321.61 ms\n",
            "llama_print_timings:      sample time =      12.22 ms /   218 runs   (    0.06 ms per token, 17843.99 tokens per second)\n",
            "llama_print_timings: prompt eval time =       0.00 ms /     0 tokens (    -nan ms per token,     -nan tokens per second)\n",
            "llama_print_timings:        eval time =   93709.31 ms /   218 runs   (  429.86 ms per token,     2.33 tokens per second)\n",
            "llama_print_timings:       total time =   93949.09 ms /   218 tokens\n"
          ]
        },
        {
          "output_type": "stream",
          "name": "stdout",
          "text": [
            "```json\n",
            "{\n",
            "    \"entities_and_triples\": [\n",
            "        \"[1], CITY:San Francisco\",\n",
            "        \"[2], LOCATION:San Francisco, City and County\",\n",
            "        \"[3], LOCATION:San Francisco\",\n",
            "        \"[4], LOCATION:Northern California\",\n",
            "        \"[5], NUMBER:808,437\",\n",
            "        \"[1] POPULATION [5]\",\n",
            "        \"[6], DATE:2022\",\n",
            "        \"[7], COUNTRY:U.S.\",\n",
            "        \"[8], LOCATION:California\",\n",
            "        \"[9], CITY:Los Angeles\",\n",
            "        \"[10], CITY:San Diego\",\n",
            "        \"[11], CITY:San Jose\",\n",
            "        \"[12], LOCATION:San Francisco, County of San Francisco\",\n",
            "        \"[13], LOCATION:San Francisco, City and County of San Francisco\"\n",
            "    ]\n",
            "}\n",
            "```\n"
          ]
        }
      ],
      "source": [
        "prediction = triplextract(model, text, entity_types, predicates)\n",
        "print(prediction)"
      ]
    },
    {
      "cell_type": "code",
      "source": [],
      "metadata": {
        "id": "Qzh8aPEkUWRi"
      },
      "execution_count": null,
      "outputs": []
    },
    {
      "cell_type": "code",
      "source": [
        "import pandas as pd\n",
        "import re"
      ],
      "metadata": {
        "id": "FI2-uf-jbRjW"
      },
      "execution_count": null,
      "outputs": []
    },
    {
      "cell_type": "code",
      "source": [
        "prediction = prediction.strip('`')\n",
        "\n",
        "lines = prediction.split('\\n')\n",
        "\n",
        "entity_dict = {}\n",
        "triples = []"
      ],
      "metadata": {
        "id": "Veqjp-rGvdHi"
      },
      "execution_count": null,
      "outputs": []
    },
    {
      "cell_type": "code",
      "source": [
        "for line in lines:\n",
        "    line = line.strip()\n",
        "    if line.startswith('\"[') and ':' in line:\n",
        "\n",
        "        match = re.match(r'\\\"\\[(\\d+)\\], (.+):(.+)\\\"', line)\n",
        "        if match:\n",
        "            entity_id, entity_type, entity_name = match.groups()\n",
        "            entity_dict[entity_id] = entity_name.strip()\n",
        "    elif line.startswith('\"[') and ']' in line:\n",
        "\n",
        "        triples.append(line.strip('\"'))"
      ],
      "metadata": {
        "id": "eGkkxq6YwP4J"
      },
      "execution_count": null,
      "outputs": []
    },
    {
      "cell_type": "code",
      "source": [
        "processed_triples = []\n",
        "\n",
        "for triple in triples:\n",
        "\n",
        "    match = re.match(r'\\[(\\d+)\\] (.+) \\[(\\d+)\\]', triple)\n",
        "\n",
        "    if match:\n",
        "\n",
        "        subject_id, predicate, object_id = match.groups()\n",
        "\n",
        "        subject = entity_dict.get(subject_id, subject_id)\n",
        "\n",
        "        object = entity_dict.get(object_id, object_id)\n",
        "\n",
        "        processed_triples.append((subject, predicate, object))"
      ],
      "metadata": {
        "id": "XLUSWpwGwRH_"
      },
      "execution_count": null,
      "outputs": []
    },
    {
      "cell_type": "code",
      "source": [
        "df = pd.DataFrame(processed_triples, columns=['Subject', 'Predicate', 'Object'])\n",
        "\n",
        "print(df)"
      ],
      "metadata": {
        "colab": {
          "base_uri": "https://localhost:8080/"
        },
        "id": "o_WsVkJ1x2_f",
        "outputId": "748dff30-f6e0-493a-936e-4b28d31efa59"
      },
      "execution_count": null,
      "outputs": [
        {
          "output_type": "stream",
          "name": "stdout",
          "text": [
            "         Subject   Predicate   Object\n",
            "0  San Francisco  POPULATION  808,437\n",
            "1  San Francisco  POPULATION  808,437\n",
            "2  San Francisco  POPULATION  808,437\n",
            "3  San Francisco  POPULATION  808,437\n"
          ]
        }
      ]
    },
    {
      "cell_type": "markdown",
      "source": [
        "### **Without An Input Entity an Predicate**"
      ],
      "metadata": {
        "id": "q0-15lFX31KP"
      }
    },
    {
      "cell_type": "code",
      "source": [
        "def triplextract(model, text):\n",
        "    input_format = \"\"\"Perform Named Entity Recognition (NER) and extract knowledge graph triplets from the text. Identify relevant entity types and predicates based on the content of the text.\n",
        "\n",
        "        **Instructions:**\n",
        "        1. Identify relevant entity types present in the text.\n",
        "        2. Identify relevant predicates (relationships) between entities in the text.\n",
        "        3. Extract entities and their types.\n",
        "        4. Extract triplets (subject-predicate-object) based on the identified entities and predicates.\n",
        "\n",
        "        **Text:**\n",
        "        {text}\n",
        "\n",
        "        \"\"\"\n",
        "\n",
        "    message = input_format.format(text=text)\n",
        "\n",
        "    try:\n",
        "        output = model.create_completion(\n",
        "            message,\n",
        "            max_tokens=2048,\n",
        "            stop=[\"</s>\", \"Human:\", \"H:\"],\n",
        "            echo=False\n",
        "        )\n",
        "        return output['choices'][0]['text'].strip()\n",
        "    except Exception as e:\n",
        "        print(f\"An error occurred: {e}\")\n",
        "        raise\n"
      ],
      "metadata": {
        "id": "z_1Y9pXf0FrI"
      },
      "execution_count": null,
      "outputs": []
    },
    {
      "cell_type": "code",
      "source": [
        "prediction = triplextract(model, text)\n",
        "print(prediction)"
      ],
      "metadata": {
        "colab": {
          "base_uri": "https://localhost:8080/"
        },
        "id": "EXg-y-sB3GZ2",
        "outputId": "21aa41c5-c24e-43da-a689-fae7d4bf8706"
      },
      "execution_count": null,
      "outputs": [
        {
          "output_type": "stream",
          "name": "stderr",
          "text": [
            "Llama.generate: 20 prefix-match hit, remaining 241 prompt tokens to eval\n",
            "\n",
            "llama_print_timings:        load time =   51169.01 ms\n",
            "llama_print_timings:      sample time =       1.23 ms /    21 runs   (    0.06 ms per token, 17031.63 tokens per second)\n",
            "llama_print_timings: prompt eval time =   65211.42 ms /   241 tokens (  270.59 ms per token,     3.70 tokens per second)\n",
            "llama_print_timings:        eval time =    8094.32 ms /    20 runs   (  404.72 ms per token,     2.47 tokens per second)\n",
            "llama_print_timings:       total time =   73325.97 ms /   261 tokens\n"
          ]
        },
        {
          "output_type": "stream",
          "name": "stdout",
          "text": [
            "```json\n",
            "{\n",
            "    \"entities_and_triples\": []\n",
            "}\n",
            "```\n"
          ]
        }
      ]
    },
    {
      "cell_type": "code",
      "source": [
        "def triplextract(model, text):\n",
        "    input_format = \"\"\"Perform Named Entity Recognition (NER) and extract knowledge graph triplets from the text. Identify relevant entity types and predicates based on the content of the text.\n",
        "\n",
        "        **Instructions:**\n",
        "        1. Identify relevant entity types present in the text. Include at least LOCATION, CITY, COUNTRY, NUMBER, and DATE if applicable.\n",
        "        2. Identify relevant predicates (relationships) between entities in the text. Include at least POPULATION and LOCATION_IN if applicable.\n",
        "        3. Extract entities and their types.\n",
        "        4. Extract triplets (subject-predicate-object) based on the identified entities and predicates.\n",
        "\n",
        "        **Text:**\n",
        "        {text}\n",
        "\n",
        "        \"\"\"\n",
        "\n",
        "    message = input_format.format(text=text)\n",
        "\n",
        "    try:\n",
        "        output = model.create_completion(\n",
        "            message,\n",
        "            max_tokens=2048,\n",
        "            stop=[\"</s>\", \"Human:\", \"H:\"],\n",
        "            echo=False\n",
        "        )\n",
        "        return output['choices'][0]['text'].strip()\n",
        "    except Exception as e:\n",
        "        print(f\"An error occurred: {e}\")\n",
        "        raise"
      ],
      "metadata": {
        "id": "S9NujRsE3xqB"
      },
      "execution_count": null,
      "outputs": []
    },
    {
      "cell_type": "code",
      "source": [
        "prediction = triplextract(model, text)\n",
        "print(prediction)"
      ],
      "metadata": {
        "colab": {
          "base_uri": "https://localhost:8080/"
        },
        "id": "40yUqnk84t6N",
        "outputId": "59f80639-2748-4016-c51a-f67f8995fc54"
      },
      "execution_count": null,
      "outputs": [
        {
          "output_type": "stream",
          "name": "stderr",
          "text": [
            "Llama.generate: 60 prefix-match hit, remaining 194 prompt tokens to eval\n",
            "\n",
            "llama_print_timings:        load time =   51169.01 ms\n",
            "llama_print_timings:      sample time =      14.38 ms /   239 runs   (    0.06 ms per token, 16616.84 tokens per second)\n",
            "llama_print_timings: prompt eval time =   51216.10 ms /   194 tokens (  264.00 ms per token,     3.79 tokens per second)\n",
            "llama_print_timings:        eval time =  102210.94 ms /   238 runs   (  429.46 ms per token,     2.33 tokens per second)\n",
            "llama_print_timings:       total time =  153695.39 ms /   432 tokens\n"
          ]
        },
        {
          "output_type": "stream",
          "name": "stdout",
          "text": [
            "```json\n",
            "{\n",
            "    \"entities_and_triples\": [\n",
            "        \"[1], CITY:San Francisco\",\n",
            "        \"[2], CITY:City and County of San Francisco\",\n",
            "        \"[3], LOCATION:Northern California\",\n",
            "        \"[1] LOCATION_IN [3]\",\n",
            "        \"[4], NUMBER:808,437\",\n",
            "        \"[1] POPULATION [4]\",\n",
            "        \"[5], DATE:2022\",\n",
            "        \"[6], LOCATION:California\",\n",
            "        \"[1] LOCATION_IN [6]\",\n",
            "        \"[7], CITY:Los Angeles\",\n",
            "        \"[8], CITY:San Diego\",\n",
            "        \"[9], CITY:San Jose\",\n",
            "        \"[10], COUNTRY:United States\",\n",
            "        \"[6] LOCATION_IN [10]\",\n",
            "        \"[11], LOCATION:Northern California region\",\n",
            "        \"[1] LOCATION_IN [11]\"\n",
            "    ]\n",
            "}\n",
            "```\n"
          ]
        }
      ]
    },
    {
      "cell_type": "code",
      "source": [
        "prediction = re.sub(r'```json\\s*|\\s*```', '', prediction)\n",
        "\n",
        "result = json.loads(prediction)"
      ],
      "metadata": {
        "id": "F2bXY9Wp4xq6"
      },
      "execution_count": null,
      "outputs": []
    },
    {
      "cell_type": "code",
      "source": [
        "entities = {}\n",
        "triples = []\n",
        "\n",
        "for item in result['entities_and_triples']:\n",
        "    if ':' in item:\n",
        "            # This is an entity\n",
        "        match = re.match(r'\\[(\\d+)\\], (.+):(.+)', item)\n",
        "        if match:\n",
        "            entity_id, entity_type, entity_name = match.groups()\n",
        "            entities[entity_id] = {'type': entity_type, 'name': entity_name}\n",
        "    else:\n",
        "            # This is a triple\n",
        "        match = re.match(r'\\[(\\d+)\\] (.+) \\[(\\d+)\\]', item)\n",
        "        if match:\n",
        "            subject_id, predicate, object_id = match.groups()\n",
        "            triples.append((subject_id, predicate, object_id))"
      ],
      "metadata": {
        "id": "6xgbOaoN6X18"
      },
      "execution_count": null,
      "outputs": []
    },
    {
      "cell_type": "code",
      "source": [
        "df = pd.DataFrame(triples, columns=['Subject', 'Predicate', 'Object'])\n",
        "\n",
        "df['Subject'] = df['Subject'].map(lambda x: entities.get(x, {}).get('name', x))\n",
        "df['Object'] = df['Object'].map(lambda x: entities.get(x, {}).get('name', x))"
      ],
      "metadata": {
        "id": "uoA2tuB-6yLt"
      },
      "execution_count": null,
      "outputs": []
    },
    {
      "cell_type": "code",
      "source": [
        "print(\"Extracted Entities:\")\n",
        "\n",
        "for entity_id, entity_info in entities.items():\n",
        "    print(f\"[{entity_id}] {entity_info['type']}: {entity_info['name']}\")"
      ],
      "metadata": {
        "colab": {
          "base_uri": "https://localhost:8080/"
        },
        "id": "r8xslB8Z65HD",
        "outputId": "00ab359b-a12b-4ca9-fc75-bf1547646c9e"
      },
      "execution_count": null,
      "outputs": [
        {
          "output_type": "stream",
          "name": "stdout",
          "text": [
            "Extracted Entities:\n",
            "[1] CITY: San Francisco\n",
            "[2] CITY: City and County of San Francisco\n",
            "[3] LOCATION: Northern California\n",
            "[4] NUMBER: 808,437\n",
            "[5] DATE: 2022\n",
            "[6] LOCATION: California\n",
            "[7] CITY: Los Angeles\n",
            "[8] CITY: San Diego\n",
            "[9] CITY: San Jose\n",
            "[10] COUNTRY: United States\n",
            "[11] LOCATION: Northern California region\n"
          ]
        }
      ]
    },
    {
      "cell_type": "code",
      "source": [
        "df"
      ],
      "metadata": {
        "colab": {
          "base_uri": "https://localhost:8080/",
          "height": 206
        },
        "id": "8dD61lGQ8vYK",
        "outputId": "ae9bda2e-1c85-41b1-dc20-0d97ef938ffb"
      },
      "execution_count": null,
      "outputs": [
        {
          "output_type": "execute_result",
          "data": {
            "text/plain": [
              "         Subject    Predicate                      Object\n",
              "0  San Francisco  LOCATION_IN         Northern California\n",
              "1  San Francisco   POPULATION                     808,437\n",
              "2  San Francisco  LOCATION_IN                  California\n",
              "3     California  LOCATION_IN               United States\n",
              "4  San Francisco  LOCATION_IN  Northern California region"
            ],
            "text/html": [
              "\n",
              "  <div id=\"df-de205806-d866-440a-9dd0-888e5b8a9d71\" class=\"colab-df-container\">\n",
              "    <div>\n",
              "<style scoped>\n",
              "    .dataframe tbody tr th:only-of-type {\n",
              "        vertical-align: middle;\n",
              "    }\n",
              "\n",
              "    .dataframe tbody tr th {\n",
              "        vertical-align: top;\n",
              "    }\n",
              "\n",
              "    .dataframe thead th {\n",
              "        text-align: right;\n",
              "    }\n",
              "</style>\n",
              "<table border=\"1\" class=\"dataframe\">\n",
              "  <thead>\n",
              "    <tr style=\"text-align: right;\">\n",
              "      <th></th>\n",
              "      <th>Subject</th>\n",
              "      <th>Predicate</th>\n",
              "      <th>Object</th>\n",
              "    </tr>\n",
              "  </thead>\n",
              "  <tbody>\n",
              "    <tr>\n",
              "      <th>0</th>\n",
              "      <td>San Francisco</td>\n",
              "      <td>LOCATION_IN</td>\n",
              "      <td>Northern California</td>\n",
              "    </tr>\n",
              "    <tr>\n",
              "      <th>1</th>\n",
              "      <td>San Francisco</td>\n",
              "      <td>POPULATION</td>\n",
              "      <td>808,437</td>\n",
              "    </tr>\n",
              "    <tr>\n",
              "      <th>2</th>\n",
              "      <td>San Francisco</td>\n",
              "      <td>LOCATION_IN</td>\n",
              "      <td>California</td>\n",
              "    </tr>\n",
              "    <tr>\n",
              "      <th>3</th>\n",
              "      <td>California</td>\n",
              "      <td>LOCATION_IN</td>\n",
              "      <td>United States</td>\n",
              "    </tr>\n",
              "    <tr>\n",
              "      <th>4</th>\n",
              "      <td>San Francisco</td>\n",
              "      <td>LOCATION_IN</td>\n",
              "      <td>Northern California region</td>\n",
              "    </tr>\n",
              "  </tbody>\n",
              "</table>\n",
              "</div>\n",
              "    <div class=\"colab-df-buttons\">\n",
              "\n",
              "  <div class=\"colab-df-container\">\n",
              "    <button class=\"colab-df-convert\" onclick=\"convertToInteractive('df-de205806-d866-440a-9dd0-888e5b8a9d71')\"\n",
              "            title=\"Convert this dataframe to an interactive table.\"\n",
              "            style=\"display:none;\">\n",
              "\n",
              "  <svg xmlns=\"http://www.w3.org/2000/svg\" height=\"24px\" viewBox=\"0 -960 960 960\">\n",
              "    <path d=\"M120-120v-720h720v720H120Zm60-500h600v-160H180v160Zm220 220h160v-160H400v160Zm0 220h160v-160H400v160ZM180-400h160v-160H180v160Zm440 0h160v-160H620v160ZM180-180h160v-160H180v160Zm440 0h160v-160H620v160Z\"/>\n",
              "  </svg>\n",
              "    </button>\n",
              "\n",
              "  <style>\n",
              "    .colab-df-container {\n",
              "      display:flex;\n",
              "      gap: 12px;\n",
              "    }\n",
              "\n",
              "    .colab-df-convert {\n",
              "      background-color: #E8F0FE;\n",
              "      border: none;\n",
              "      border-radius: 50%;\n",
              "      cursor: pointer;\n",
              "      display: none;\n",
              "      fill: #1967D2;\n",
              "      height: 32px;\n",
              "      padding: 0 0 0 0;\n",
              "      width: 32px;\n",
              "    }\n",
              "\n",
              "    .colab-df-convert:hover {\n",
              "      background-color: #E2EBFA;\n",
              "      box-shadow: 0px 1px 2px rgba(60, 64, 67, 0.3), 0px 1px 3px 1px rgba(60, 64, 67, 0.15);\n",
              "      fill: #174EA6;\n",
              "    }\n",
              "\n",
              "    .colab-df-buttons div {\n",
              "      margin-bottom: 4px;\n",
              "    }\n",
              "\n",
              "    [theme=dark] .colab-df-convert {\n",
              "      background-color: #3B4455;\n",
              "      fill: #D2E3FC;\n",
              "    }\n",
              "\n",
              "    [theme=dark] .colab-df-convert:hover {\n",
              "      background-color: #434B5C;\n",
              "      box-shadow: 0px 1px 3px 1px rgba(0, 0, 0, 0.15);\n",
              "      filter: drop-shadow(0px 1px 2px rgba(0, 0, 0, 0.3));\n",
              "      fill: #FFFFFF;\n",
              "    }\n",
              "  </style>\n",
              "\n",
              "    <script>\n",
              "      const buttonEl =\n",
              "        document.querySelector('#df-de205806-d866-440a-9dd0-888e5b8a9d71 button.colab-df-convert');\n",
              "      buttonEl.style.display =\n",
              "        google.colab.kernel.accessAllowed ? 'block' : 'none';\n",
              "\n",
              "      async function convertToInteractive(key) {\n",
              "        const element = document.querySelector('#df-de205806-d866-440a-9dd0-888e5b8a9d71');\n",
              "        const dataTable =\n",
              "          await google.colab.kernel.invokeFunction('convertToInteractive',\n",
              "                                                    [key], {});\n",
              "        if (!dataTable) return;\n",
              "\n",
              "        const docLinkHtml = 'Like what you see? Visit the ' +\n",
              "          '<a target=\"_blank\" href=https://colab.research.google.com/notebooks/data_table.ipynb>data table notebook</a>'\n",
              "          + ' to learn more about interactive tables.';\n",
              "        element.innerHTML = '';\n",
              "        dataTable['output_type'] = 'display_data';\n",
              "        await google.colab.output.renderOutput(dataTable, element);\n",
              "        const docLink = document.createElement('div');\n",
              "        docLink.innerHTML = docLinkHtml;\n",
              "        element.appendChild(docLink);\n",
              "      }\n",
              "    </script>\n",
              "  </div>\n",
              "\n",
              "\n",
              "<div id=\"df-fe5c56fa-87c4-4925-b7cb-c13cec27be1a\">\n",
              "  <button class=\"colab-df-quickchart\" onclick=\"quickchart('df-fe5c56fa-87c4-4925-b7cb-c13cec27be1a')\"\n",
              "            title=\"Suggest charts\"\n",
              "            style=\"display:none;\">\n",
              "\n",
              "<svg xmlns=\"http://www.w3.org/2000/svg\" height=\"24px\"viewBox=\"0 0 24 24\"\n",
              "     width=\"24px\">\n",
              "    <g>\n",
              "        <path d=\"M19 3H5c-1.1 0-2 .9-2 2v14c0 1.1.9 2 2 2h14c1.1 0 2-.9 2-2V5c0-1.1-.9-2-2-2zM9 17H7v-7h2v7zm4 0h-2V7h2v10zm4 0h-2v-4h2v4z\"/>\n",
              "    </g>\n",
              "</svg>\n",
              "  </button>\n",
              "\n",
              "<style>\n",
              "  .colab-df-quickchart {\n",
              "      --bg-color: #E8F0FE;\n",
              "      --fill-color: #1967D2;\n",
              "      --hover-bg-color: #E2EBFA;\n",
              "      --hover-fill-color: #174EA6;\n",
              "      --disabled-fill-color: #AAA;\n",
              "      --disabled-bg-color: #DDD;\n",
              "  }\n",
              "\n",
              "  [theme=dark] .colab-df-quickchart {\n",
              "      --bg-color: #3B4455;\n",
              "      --fill-color: #D2E3FC;\n",
              "      --hover-bg-color: #434B5C;\n",
              "      --hover-fill-color: #FFFFFF;\n",
              "      --disabled-bg-color: #3B4455;\n",
              "      --disabled-fill-color: #666;\n",
              "  }\n",
              "\n",
              "  .colab-df-quickchart {\n",
              "    background-color: var(--bg-color);\n",
              "    border: none;\n",
              "    border-radius: 50%;\n",
              "    cursor: pointer;\n",
              "    display: none;\n",
              "    fill: var(--fill-color);\n",
              "    height: 32px;\n",
              "    padding: 0;\n",
              "    width: 32px;\n",
              "  }\n",
              "\n",
              "  .colab-df-quickchart:hover {\n",
              "    background-color: var(--hover-bg-color);\n",
              "    box-shadow: 0 1px 2px rgba(60, 64, 67, 0.3), 0 1px 3px 1px rgba(60, 64, 67, 0.15);\n",
              "    fill: var(--button-hover-fill-color);\n",
              "  }\n",
              "\n",
              "  .colab-df-quickchart-complete:disabled,\n",
              "  .colab-df-quickchart-complete:disabled:hover {\n",
              "    background-color: var(--disabled-bg-color);\n",
              "    fill: var(--disabled-fill-color);\n",
              "    box-shadow: none;\n",
              "  }\n",
              "\n",
              "  .colab-df-spinner {\n",
              "    border: 2px solid var(--fill-color);\n",
              "    border-color: transparent;\n",
              "    border-bottom-color: var(--fill-color);\n",
              "    animation:\n",
              "      spin 1s steps(1) infinite;\n",
              "  }\n",
              "\n",
              "  @keyframes spin {\n",
              "    0% {\n",
              "      border-color: transparent;\n",
              "      border-bottom-color: var(--fill-color);\n",
              "      border-left-color: var(--fill-color);\n",
              "    }\n",
              "    20% {\n",
              "      border-color: transparent;\n",
              "      border-left-color: var(--fill-color);\n",
              "      border-top-color: var(--fill-color);\n",
              "    }\n",
              "    30% {\n",
              "      border-color: transparent;\n",
              "      border-left-color: var(--fill-color);\n",
              "      border-top-color: var(--fill-color);\n",
              "      border-right-color: var(--fill-color);\n",
              "    }\n",
              "    40% {\n",
              "      border-color: transparent;\n",
              "      border-right-color: var(--fill-color);\n",
              "      border-top-color: var(--fill-color);\n",
              "    }\n",
              "    60% {\n",
              "      border-color: transparent;\n",
              "      border-right-color: var(--fill-color);\n",
              "    }\n",
              "    80% {\n",
              "      border-color: transparent;\n",
              "      border-right-color: var(--fill-color);\n",
              "      border-bottom-color: var(--fill-color);\n",
              "    }\n",
              "    90% {\n",
              "      border-color: transparent;\n",
              "      border-bottom-color: var(--fill-color);\n",
              "    }\n",
              "  }\n",
              "</style>\n",
              "\n",
              "  <script>\n",
              "    async function quickchart(key) {\n",
              "      const quickchartButtonEl =\n",
              "        document.querySelector('#' + key + ' button');\n",
              "      quickchartButtonEl.disabled = true;  // To prevent multiple clicks.\n",
              "      quickchartButtonEl.classList.add('colab-df-spinner');\n",
              "      try {\n",
              "        const charts = await google.colab.kernel.invokeFunction(\n",
              "            'suggestCharts', [key], {});\n",
              "      } catch (error) {\n",
              "        console.error('Error during call to suggestCharts:', error);\n",
              "      }\n",
              "      quickchartButtonEl.classList.remove('colab-df-spinner');\n",
              "      quickchartButtonEl.classList.add('colab-df-quickchart-complete');\n",
              "    }\n",
              "    (() => {\n",
              "      let quickchartButtonEl =\n",
              "        document.querySelector('#df-fe5c56fa-87c4-4925-b7cb-c13cec27be1a button');\n",
              "      quickchartButtonEl.style.display =\n",
              "        google.colab.kernel.accessAllowed ? 'block' : 'none';\n",
              "    })();\n",
              "  </script>\n",
              "</div>\n",
              "\n",
              "  <div id=\"id_6bb43edc-64f5-4e67-a430-4cd6cf85dc0d\">\n",
              "    <style>\n",
              "      .colab-df-generate {\n",
              "        background-color: #E8F0FE;\n",
              "        border: none;\n",
              "        border-radius: 50%;\n",
              "        cursor: pointer;\n",
              "        display: none;\n",
              "        fill: #1967D2;\n",
              "        height: 32px;\n",
              "        padding: 0 0 0 0;\n",
              "        width: 32px;\n",
              "      }\n",
              "\n",
              "      .colab-df-generate:hover {\n",
              "        background-color: #E2EBFA;\n",
              "        box-shadow: 0px 1px 2px rgba(60, 64, 67, 0.3), 0px 1px 3px 1px rgba(60, 64, 67, 0.15);\n",
              "        fill: #174EA6;\n",
              "      }\n",
              "\n",
              "      [theme=dark] .colab-df-generate {\n",
              "        background-color: #3B4455;\n",
              "        fill: #D2E3FC;\n",
              "      }\n",
              "\n",
              "      [theme=dark] .colab-df-generate:hover {\n",
              "        background-color: #434B5C;\n",
              "        box-shadow: 0px 1px 3px 1px rgba(0, 0, 0, 0.15);\n",
              "        filter: drop-shadow(0px 1px 2px rgba(0, 0, 0, 0.3));\n",
              "        fill: #FFFFFF;\n",
              "      }\n",
              "    </style>\n",
              "    <button class=\"colab-df-generate\" onclick=\"generateWithVariable('df')\"\n",
              "            title=\"Generate code using this dataframe.\"\n",
              "            style=\"display:none;\">\n",
              "\n",
              "  <svg xmlns=\"http://www.w3.org/2000/svg\" height=\"24px\"viewBox=\"0 0 24 24\"\n",
              "       width=\"24px\">\n",
              "    <path d=\"M7,19H8.4L18.45,9,17,7.55,7,17.6ZM5,21V16.75L18.45,3.32a2,2,0,0,1,2.83,0l1.4,1.43a1.91,1.91,0,0,1,.58,1.4,1.91,1.91,0,0,1-.58,1.4L9.25,21ZM18.45,9,17,7.55Zm-12,3A5.31,5.31,0,0,0,4.9,8.1,5.31,5.31,0,0,0,1,6.5,5.31,5.31,0,0,0,4.9,4.9,5.31,5.31,0,0,0,6.5,1,5.31,5.31,0,0,0,8.1,4.9,5.31,5.31,0,0,0,12,6.5,5.46,5.46,0,0,0,6.5,12Z\"/>\n",
              "  </svg>\n",
              "    </button>\n",
              "    <script>\n",
              "      (() => {\n",
              "      const buttonEl =\n",
              "        document.querySelector('#id_6bb43edc-64f5-4e67-a430-4cd6cf85dc0d button.colab-df-generate');\n",
              "      buttonEl.style.display =\n",
              "        google.colab.kernel.accessAllowed ? 'block' : 'none';\n",
              "\n",
              "      buttonEl.onclick = () => {\n",
              "        google.colab.notebook.generateWithVariable('df');\n",
              "      }\n",
              "      })();\n",
              "    </script>\n",
              "  </div>\n",
              "\n",
              "    </div>\n",
              "  </div>\n"
            ],
            "application/vnd.google.colaboratory.intrinsic+json": {
              "type": "dataframe",
              "variable_name": "df",
              "summary": "{\n  \"name\": \"df\",\n  \"rows\": 5,\n  \"fields\": [\n    {\n      \"column\": \"Subject\",\n      \"properties\": {\n        \"dtype\": \"category\",\n        \"num_unique_values\": 2,\n        \"samples\": [\n          \"California\",\n          \"San Francisco\"\n        ],\n        \"semantic_type\": \"\",\n        \"description\": \"\"\n      }\n    },\n    {\n      \"column\": \"Predicate\",\n      \"properties\": {\n        \"dtype\": \"category\",\n        \"num_unique_values\": 2,\n        \"samples\": [\n          \"POPULATION\",\n          \"LOCATION_IN\"\n        ],\n        \"semantic_type\": \"\",\n        \"description\": \"\"\n      }\n    },\n    {\n      \"column\": \"Object\",\n      \"properties\": {\n        \"dtype\": \"string\",\n        \"num_unique_values\": 5,\n        \"samples\": [\n          \"808,437\",\n          \"Northern California region\"\n        ],\n        \"semantic_type\": \"\",\n        \"description\": \"\"\n      }\n    }\n  ]\n}"
            }
          },
          "metadata": {},
          "execution_count": 24
        }
      ]
    },
    {
      "cell_type": "code",
      "source": [
        "entity_types = list(set(entity['type'] for entity in entities.values()))\n",
        "predicates = list(df['Predicate'].unique())\n",
        "\n",
        "print(\"\\nIdentified Entity Types:\")\n",
        "print(entity_types)\n",
        "print(\"\\nIdentified Predicates:\")\n",
        "print(predicates)"
      ],
      "metadata": {
        "colab": {
          "base_uri": "https://localhost:8080/"
        },
        "id": "MFLAnzJn83fc",
        "outputId": "6896dd41-ecd1-46fc-8d18-30906c105d63"
      },
      "execution_count": null,
      "outputs": [
        {
          "output_type": "stream",
          "name": "stdout",
          "text": [
            "\n",
            "Identified Entity Types:\n",
            "['DATE', 'NUMBER', 'CITY', 'LOCATION', 'COUNTRY']\n",
            "\n",
            "Identified Predicates:\n",
            "['LOCATION_IN', 'POPULATION']\n"
          ]
        }
      ]
    },
    {
      "cell_type": "code",
      "source": [],
      "metadata": {
        "id": "4qA6pkz89RGP"
      },
      "execution_count": null,
      "outputs": []
    },
    {
      "cell_type": "code",
      "source": [
        "def triplextract(model, text):\n",
        "    input_format = \"\"\"Perform Name Entity Recognition (NER) and extract knowledge graph triplets from the text. Identify relevant entity types and predicates in the text given.\n",
        "\n",
        "        **Instructions:**\n",
        "        1. Extract triplets (subject-predicate-object) based on the identified entities and predicates.\n",
        "\n",
        "        **Text:**\n",
        "        {text}\n",
        "\n",
        "        \"\"\"\n",
        "\n",
        "    message = input_format.format(text=text)\n",
        "\n",
        "    try:\n",
        "        output = model.create_completion(\n",
        "            message,\n",
        "            max_tokens=2048,\n",
        "            # stop=[\"</s>\", \"Human:\", \"H:\"],\n",
        "            echo=False,\n",
        "            temperature = 0\n",
        "        )\n",
        "        return output['choices'][0]['text'].strip()\n",
        "    except Exception as e:\n",
        "        print(f\"An error occurred: {e}\")\n",
        "        raise\n"
      ],
      "metadata": {
        "id": "w20N5aGpKYXI"
      },
      "execution_count": null,
      "outputs": []
    },
    {
      "cell_type": "code",
      "source": [
        "text = \"\"\"\n",
        "Joseph Robinette Biden Jr. (/ˈbaɪdən/; born November 20, 1942) is an American politician who is the 46th and current president of the United States.\n",
        "    A member of the Democratic Party, he previously served as the 47th vice president from 2009 to 2017 under President Barack Obama, and represented Delaware in the United States Senate from 1973 to 2009.\n",
        "    Biden was born and raised in Scranton, Pennsylvania, and moved with his family to Delaware in 1953 when he was ten years old.\n",
        "    He studied at the University of Delaware before earning his law degree from Syracuse University.\n",
        "    He was elected to the New Castle County Council in 1970 and became the sixth-youngest senator in U.S. history after he was elected to the United States Senate from Delaware in 1972, at age 29.\n",
        "    Biden was the chair or ranking member of the Senate Foreign Relations Committee for 12 years.\n",
        "    He also chaired the Senate Judiciary Committee from 1987 to 1995; led the effort to pass the Violent Crime Control and Law Enforcement Act and the Violence Against Women Act; and oversaw six U.S. Supreme Court confirmation hearings, including the contentious hearings for Robert Bork and Clarence Thomas.\n",
        "    Biden ran unsuccessfully for the Democratic presidential nomination in 1988 and 2008, before becoming Obama's vice president after they won the 2008 presidential election.\n",
        "    During his two terms as vice president, Biden frequently represented the administration in negotiations with congressional Republicans and was a close counselor to President Obama.\n",
        "    Biden and his running mate, Kamala Harris, defeated incumbent Donald Trump in the 2020 presidential election.\n",
        "    Upon inauguration, he became the oldest president in U.S. history and the first to have a female vice president.\n",
        "    Biden signed the American Rescue Plan Act to help the U.S. recover from the COVID-19 pandemic and subsequent recession.\n",
        "    He proposed the American Jobs Plan, aspects of which were incorporated into the bipartisan Infrastructure Investment and Jobs Act.\n",
        "    He proposed the American Families Plan, which was merged with other aspects of the American Jobs Plan into the proposed Build Back Better Act.\n",
        "    After facing opposition in the Senate, the Build Back Better Act's size was reduced and it was comprehensively reworked into the Inflation Reduction Act of 2022, covering deficit reduction, climate change, healthcare, and tax reform.\n",
        "    Biden appointed Ketanji Brown Jackson to the Supreme Court. In foreign policy, he restored the U.S. into the Paris Agreement on climate change.\n",
        "    He completed the withdrawal of U.S. troops from Afghanistan, during which the Afghan government collapsed and the Taliban seized control.\n",
        "    He responded to the 2022 Russian invasion of Ukraine by imposing sanctions on Russia and authorizing foreign aid and weapons shipments to Ukraine. (en)\n",
        "\"\"\""
      ],
      "metadata": {
        "id": "u8QHp7mZLZYW"
      },
      "execution_count": null,
      "outputs": []
    },
    {
      "cell_type": "code",
      "source": [
        "prediction = triplextract(model, text)\n",
        "print(prediction)"
      ],
      "metadata": {
        "colab": {
          "base_uri": "https://localhost:8080/"
        },
        "id": "ag617Wa_KYTE",
        "outputId": "82dc0292-2595-49e5-d32a-815f4815163f"
      },
      "execution_count": null,
      "outputs": [
        {
          "output_type": "stream",
          "name": "stderr",
          "text": [
            "\n",
            "llama_print_timings:        load time =  129525.20 ms\n",
            "llama_print_timings:      sample time =       1.10 ms /    21 runs   (    0.05 ms per token, 19108.28 tokens per second)\n",
            "llama_print_timings: prompt eval time =  209369.89 ms /   818 tokens (  255.95 ms per token,     3.91 tokens per second)\n",
            "llama_print_timings:        eval time =    9360.09 ms /    20 runs   (  468.00 ms per token,     2.14 tokens per second)\n",
            "llama_print_timings:       total time =  218759.50 ms /   838 tokens\n"
          ]
        },
        {
          "output_type": "stream",
          "name": "stdout",
          "text": [
            "```json\n",
            "{\n",
            "    \"entities_and_triples\": []\n",
            "}\n",
            "```\n"
          ]
        }
      ]
    },
    {
      "cell_type": "code",
      "source": [],
      "metadata": {
        "id": "PiipcQrMKYQf"
      },
      "execution_count": null,
      "outputs": []
    },
    {
      "cell_type": "code",
      "source": [
        "def triplextract(model, text):\n",
        "    input_format = \"\"\"Perform Name Entity Recognition (NER) and extract knowledge graph triplets from the text. Identify relevant entity types and predicates in the text given.\n",
        "\n",
        "        **Instructions:**\n",
        "        1. Extract triplets (subject-predicate-object) based on the identified entities and predicates.\n",
        "\n",
        "        **Entity Types:**\n",
        "        identify the entity types yourself\n",
        "\n",
        "        **Predicates:**\n",
        "        identify the predicates yourself\n",
        "\n",
        "        **Text:**\n",
        "        {text}\n",
        "\n",
        "        \"\"\"\n",
        "\n",
        "    message = input_format.format(text=text)\n",
        "\n",
        "    try:\n",
        "        output = model.create_completion(\n",
        "            message,\n",
        "            max_tokens=2048,\n",
        "            # stop=[\"</s>\", \"Human:\", \"H:\"],\n",
        "            echo=False,\n",
        "            temperature = 0\n",
        "        )\n",
        "        return output['choices'][0]['text'].strip()\n",
        "    except Exception as e:\n",
        "        print(f\"An error occurred: {e}\")\n",
        "        raise\n"
      ],
      "metadata": {
        "id": "MkQDFKafKYOM"
      },
      "execution_count": null,
      "outputs": []
    },
    {
      "cell_type": "code",
      "source": [
        "text = \"\"\"\n",
        "Joseph Robinette Biden Jr. (/ˈbaɪdən/; born November 20, 1942) is an American politician who is the 46th and current president of the United States.\n",
        "    A member of the Democratic Party, he previously served as the 47th vice president from 2009 to 2017 under President Barack Obama, and represented Delaware in the United States Senate from 1973 to 2009.\n",
        "    Biden was born and raised in Scranton, Pennsylvania, and moved with his family to Delaware in 1953 when he was ten years old.\n",
        "    He studied at the University of Delaware before earning his law degree from Syracuse University.\n",
        "    He was elected to the New Castle County Council in 1970 and became the sixth-youngest senator in U.S. history after he was elected to the United States Senate from Delaware in 1972, at age 29.\n",
        "    Biden was the chair or ranking member of the Senate Foreign Relations Committee for 12 years.\n",
        "    He also chaired the Senate Judiciary Committee from 1987 to 1995; led the effort to pass the Violent Crime Control and Law Enforcement Act and the Violence Against Women Act; and oversaw six U.S. Supreme Court confirmation hearings, including the contentious hearings for Robert Bork and Clarence Thomas.\n",
        "    Biden ran unsuccessfully for the Democratic presidential nomination in 1988 and 2008, before becoming Obama's vice president after they won the 2008 presidential election.\n",
        "    During his two terms as vice president, Biden frequently represented the administration in negotiations with congressional Republicans and was a close counselor to President Obama.\n",
        "    Biden and his running mate, Kamala Harris, defeated incumbent Donald Trump in the 2020 presidential election.\n",
        "    Upon inauguration, he became the oldest president in U.S. history and the first to have a female vice president.\n",
        "    Biden signed the American Rescue Plan Act to help the U.S. recover from the COVID-19 pandemic and subsequent recession.\n",
        "    He proposed the American Jobs Plan, aspects of which were incorporated into the bipartisan Infrastructure Investment and Jobs Act.\n",
        "    He proposed the American Families Plan, which was merged with other aspects of the American Jobs Plan into the proposed Build Back Better Act.\n",
        "    After facing opposition in the Senate, the Build Back Better Act's size was reduced and it was comprehensively reworked into the Inflation Reduction Act of 2022, covering deficit reduction, climate change, healthcare, and tax reform.\n",
        "    Biden appointed Ketanji Brown Jackson to the Supreme Court. In foreign policy, he restored the U.S. into the Paris Agreement on climate change.\n",
        "    He completed the withdrawal of U.S. troops from Afghanistan, during which the Afghan government collapsed and the Taliban seized control.\n",
        "    He responded to the 2022 Russian invasion of Ukraine by imposing sanctions on Russia and authorizing foreign aid and weapons shipments to Ukraine. (en)\n",
        "\"\"\""
      ],
      "metadata": {
        "id": "Nwx730L-Ngr7"
      },
      "execution_count": null,
      "outputs": []
    },
    {
      "cell_type": "code",
      "source": [
        "prediction = triplextract(model, text)\n",
        "print(prediction)"
      ],
      "metadata": {
        "colab": {
          "base_uri": "https://localhost:8080/"
        },
        "id": "tsZJHpmEKYLl",
        "outputId": "60eef1f7-e23a-411f-d988-7a026c7b5aca"
      },
      "execution_count": null,
      "outputs": [
        {
          "output_type": "stream",
          "name": "stderr",
          "text": [
            "Llama.generate: 72 prefix-match hit, remaining 778 prompt tokens to eval\n",
            "\n",
            "llama_print_timings:        load time =  129525.20 ms\n",
            "llama_print_timings:      sample time =       1.08 ms /    21 runs   (    0.05 ms per token, 19498.61 tokens per second)\n",
            "llama_print_timings: prompt eval time =  208348.44 ms /   778 tokens (  267.80 ms per token,     3.73 tokens per second)\n",
            "llama_print_timings:        eval time =    9252.35 ms /    20 runs   (  462.62 ms per token,     2.16 tokens per second)\n",
            "llama_print_timings:       total time =  217633.24 ms /   798 tokens\n"
          ]
        },
        {
          "output_type": "stream",
          "name": "stdout",
          "text": [
            "```json\n",
            "{\n",
            "    \"entities_and_triples\": []\n",
            "}\n",
            "```\n"
          ]
        }
      ]
    },
    {
      "cell_type": "code",
      "source": [],
      "metadata": {
        "id": "E4bqW7_1KYJE"
      },
      "execution_count": null,
      "outputs": []
    },
    {
      "cell_type": "code",
      "source": [
        "def triplextract(model, text):\n",
        "    input_format = \"\"\"\n",
        "\n",
        "        **Instruction:**\n",
        "        Extract triplets (subject-predicate-object) based on the identified entities and predicates available in the given text.\n",
        "\n",
        "        **Entity Types:**\n",
        "        identify the entity types from the text using your knowledge\n",
        "\n",
        "        **Predicates:**\n",
        "        identify the predicates from the text using your knowledge\n",
        "\n",
        "        **Text:**\n",
        "        {text}\n",
        "\n",
        "        \"\"\"\n",
        "\n",
        "    message = input_format.format(text=text)\n",
        "\n",
        "    try:\n",
        "        output = model.create_completion(\n",
        "            message,\n",
        "            max_tokens=2048,\n",
        "            # stop=[\"</s>\", \"Human:\", \"H:\"],\n",
        "            echo=False,\n",
        "            temperature = 0\n",
        "        )\n",
        "        return output['choices'][0]['text'].strip()\n",
        "    except Exception as e:\n",
        "        print(f\"An error occurred: {e}\")\n",
        "        raise\n"
      ],
      "metadata": {
        "id": "-KFeSzuyQX8B"
      },
      "execution_count": null,
      "outputs": []
    },
    {
      "cell_type": "code",
      "source": [
        "text = \"\"\"\n",
        "Joseph Robinette Biden Jr. (/ˈbaɪdən/; born November 20, 1942) is an American politician who is the 46th and current president of the United States.\n",
        "    A member of the Democratic Party, he previously served as the 47th vice president from 2009 to 2017 under President Barack Obama, and represented Delaware in the United States Senate from 1973 to 2009.\n",
        "    Biden was born and raised in Scranton, Pennsylvania, and moved with his family to Delaware in 1953 when he was ten years old.\n",
        "    He studied at the University of Delaware before earning his law degree from Syracuse University.\n",
        "    He was elected to the New Castle County Council in 1970 and became the sixth-youngest senator in U.S. history after he was elected to the United States Senate from Delaware in 1972, at age 29.\n",
        "    Biden was the chair or ranking member of the Senate Foreign Relations Committee for 12 years.\n",
        "    He also chaired the Senate Judiciary Committee from 1987 to 1995; led the effort to pass the Violent Crime Control and Law Enforcement Act and the Violence Against Women Act; and oversaw six U.S. Supreme Court confirmation hearings, including the contentious hearings for Robert Bork and Clarence Thomas.\n",
        "    Biden ran unsuccessfully for the Democratic presidential nomination in 1988 and 2008, before becoming Obama's vice president after they won the 2008 presidential election.\n",
        "    During his two terms as vice president, Biden frequently represented the administration in negotiations with congressional Republicans and was a close counselor to President Obama.\n",
        "    Biden and his running mate, Kamala Harris, defeated incumbent Donald Trump in the 2020 presidential election.\n",
        "    Upon inauguration, he became the oldest president in U.S. history and the first to have a female vice president.\n",
        "    Biden signed the American Rescue Plan Act to help the U.S. recover from the COVID-19 pandemic and subsequent recession.\n",
        "    He proposed the American Jobs Plan, aspects of which were incorporated into the bipartisan Infrastructure Investment and Jobs Act.\n",
        "    He proposed the American Families Plan, which was merged with other aspects of the American Jobs Plan into the proposed Build Back Better Act.\n",
        "    After facing opposition in the Senate, the Build Back Better Act's size was reduced and it was comprehensively reworked into the Inflation Reduction Act of 2022, covering deficit reduction, climate change, healthcare, and tax reform.\n",
        "    Biden appointed Ketanji Brown Jackson to the Supreme Court. In foreign policy, he restored the U.S. into the Paris Agreement on climate change.\n",
        "    He completed the withdrawal of U.S. troops from Afghanistan, during which the Afghan government collapsed and the Taliban seized control.\n",
        "    He responded to the 2022 Russian invasion of Ukraine by imposing sanctions on Russia and authorizing foreign aid and weapons shipments to Ukraine. (en)\n",
        "\"\"\""
      ],
      "metadata": {
        "id": "gCRMyLDNRImb"
      },
      "execution_count": null,
      "outputs": []
    },
    {
      "cell_type": "code",
      "source": [
        "prediction = triplextract(model, text)\n",
        "print(prediction)"
      ],
      "metadata": {
        "colab": {
          "base_uri": "https://localhost:8080/"
        },
        "id": "PQxu8m1JRIjZ",
        "outputId": "69be9208-e02f-4599-c8d4-942a8b51d674"
      },
      "execution_count": null,
      "outputs": [
        {
          "output_type": "stream",
          "name": "stderr",
          "text": [
            "\n",
            "llama_print_timings:        load time =  129525.20 ms\n",
            "llama_print_timings:      sample time =       1.07 ms /    21 runs   (    0.05 ms per token, 19644.53 tokens per second)\n",
            "llama_print_timings: prompt eval time =  212854.66 ms /   830 tokens (  256.45 ms per token,     3.90 tokens per second)\n",
            "llama_print_timings:        eval time =    9412.98 ms /    20 runs   (  470.65 ms per token,     2.12 tokens per second)\n",
            "llama_print_timings:       total time =  222288.03 ms /   850 tokens\n"
          ]
        },
        {
          "output_type": "stream",
          "name": "stdout",
          "text": [
            "```json\n",
            "{\n",
            "    \"entities_and_triples\": []\n",
            "}\n",
            "```\n"
          ]
        }
      ]
    },
    {
      "cell_type": "code",
      "source": [],
      "metadata": {
        "id": "rsitfKaGQX4S"
      },
      "execution_count": null,
      "outputs": []
    },
    {
      "cell_type": "markdown",
      "source": [
        "### **Entity Linking**"
      ],
      "metadata": {
        "id": "aZjj5_IJQaJf"
      }
    },
    {
      "cell_type": "code",
      "source": [
        "!pip install funcy"
      ],
      "metadata": {
        "colab": {
          "base_uri": "https://localhost:8080/"
        },
        "id": "J6MJis7yXBj8",
        "outputId": "521616b6-e948-462c-c520-6449774227ed"
      },
      "execution_count": null,
      "outputs": [
        {
          "output_type": "stream",
          "name": "stdout",
          "text": [
            "Collecting funcy\n",
            "  Downloading funcy-2.0-py2.py3-none-any.whl.metadata (5.9 kB)\n",
            "Downloading funcy-2.0-py2.py3-none-any.whl (30 kB)\n",
            "Installing collected packages: funcy\n",
            "Successfully installed funcy-2.0\n"
          ]
        }
      ]
    },
    {
      "cell_type": "code",
      "source": [
        "from transformers import AutoTokenizer, AutoModelForSeq2SeqLM\n",
        "\n",
        "\n",
        "genre_tokenizer = AutoTokenizer.from_pretrained(\"facebook/genre-linking-blink\")\n",
        "genre_model = AutoModelForSeq2SeqLM.from_pretrained(\"facebook/genre-linking-blink\").eval()"
      ],
      "metadata": {
        "id": "9qhGZnk5Qvm2"
      },
      "execution_count": null,
      "outputs": []
    },
    {
      "cell_type": "code",
      "source": [
        "def EL_GENRE(annotated_sentences, model, tokenizer):\n",
        "    \"\"\"A method to perform entity linking for entity-mentions annotated\n",
        "    in sentences using the GENRE model.\n",
        "\n",
        "    ```\n",
        "    tokenizer = AutoTokenizer.from_pretrained(\"facebook/genre-linking-blink\")\n",
        "    model = AutoModelForSeq2SeqLM.from_pretrained(\"facebook/genre-linking-blink\").eval()\n",
        "\n",
        "    sentences = [\n",
        "        \"[START_ENT] England [END_ENT] won the cricket world cup in 2019\",\n",
        "        \"I just finished reading [START_ENT] 'The Jungle Book' [END_ENT]\",\n",
        "        \"India is a country in Asia. [START_ENT] It [END_ENT] has a rich cultural heritage\"\n",
        "    ]\n",
        "\n",
        "    EL_GENRE(annotated_sentences=sentences, model=model, tokenizer=tokenizer)\n",
        "\n",
        "    ```\n",
        "\n",
        "    Args:\n",
        "        annotated_sentences (list): A list of sentences annotated with entity-mentions\n",
        "        model : GENRE model from huggingface hub\n",
        "        tokenizer : Appropriate tokenizer for GENRE model\n",
        "    \"\"\"\n",
        "    outputs = model.generate(\n",
        "    **tokenizer(annotated_sentences, return_tensors=\"pt\", padding=True),\n",
        "    num_beams=5,\n",
        "    num_return_sequences=1,\n",
        "    # OPTIONAL: use constrained beam search\n",
        "    # prefix_allowed_tokens_fn=lambda batch_id, sent: trie.get(sent.tolist()),\n",
        "    )\n",
        "\n",
        "    entites = tokenizer.batch_decode(outputs, skip_special_tokens=True)\n",
        "\n",
        "    # These entites are in the form of wikipedia page titles. Need to\n",
        "    # add the https://dbpedia/resource to each of them as postprocessing step\n",
        "    return entites"
      ],
      "metadata": {
        "id": "sEAK06sRRXFJ"
      },
      "execution_count": null,
      "outputs": []
    },
    {
      "cell_type": "code",
      "source": [
        "def annotate_sentence(sentence, mention):\n",
        "    match = re.search(re.escape(mention.lower()), sentence.lower())\n",
        "    if match:\n",
        "        start, end = match.span()\n",
        "        sentence = sentence[:start] + \" [START_ENT] \" + sentence[start:end] + \" [END_ENT] \" + sentence[end:]\n",
        "    else:\n",
        "        sentence = f\"{sentence} [START_ENT] {mention} [END_ENT]\"\n",
        "    return sentence"
      ],
      "metadata": {
        "id": "Xnatg8I7XzsV"
      },
      "execution_count": null,
      "outputs": []
    },
    {
      "cell_type": "code",
      "source": [
        "from funcy import print_durations\n",
        "\n",
        "@print_durations\n",
        "def get_triple_from_triple(sub, relation, obj, sentence):\n",
        "\n",
        "    subject_entity = EL_GENRE(\n",
        "        annotate_sentence(sentence, sub), genre_model, genre_tokenizer)[0]\n",
        "    subject_entity = \"https://dbpedia.org/resource/\"+\"_\".join(subject_entity.split())\n",
        "\n",
        "    object_entity = EL_GENRE(\n",
        "        annotate_sentence(sentence, obj), genre_model, genre_tokenizer)[0]\n",
        "    object_entity = \"https://dbpedia.org/resource/\"+\"_\".join(object_entity.split())\n",
        "\n",
        "\n",
        "    return (subject_entity, predicate, object_entity)\n"
      ],
      "metadata": {
        "id": "iQvTvw1JSXdL"
      },
      "execution_count": null,
      "outputs": []
    },
    {
      "cell_type": "code",
      "source": [
        "linked_triples = []\n",
        "\n",
        "for subject_id, predicate, object_id in triples:\n",
        "\n",
        "    subject = entities[subject_id]['name']\n",
        "\n",
        "    object = entities[object_id]['name']\n",
        "\n",
        "    linked_triple = get_triple_from_triple(subject, predicate, object, text)\n",
        "    linked_triples.append(linked_triple)"
      ],
      "metadata": {
        "colab": {
          "base_uri": "https://localhost:8080/"
        },
        "id": "_R5Uzuu6Qqkw",
        "outputId": "7b6e7735-90bc-4d17-a1ea-3e77a509ce87"
      },
      "execution_count": null,
      "outputs": [
        {
          "output_type": "stream",
          "name": "stdout",
          "text": [
            "    7.46 s in get_triple_from_triple('San Francisco', 'LOCATION_IN', 'Northern California', '\\nSan Francisco,[24] ...)\n",
            "    6.15 s in get_triple_from_triple('San Francisco', 'POPULATION', '808,437', '\\nSan Francisco,[24] ...)\n",
            "    6.45 s in get_triple_from_triple('San Francisco', 'LOCATION_IN', 'California', '\\nSan Francisco,[24] ...)\n",
            "    5.56 s in get_triple_from_triple('California', 'LOCATION_IN', 'United States', '\\nSan Francisco,[24] ...)\n",
            "    7.44 s in get_triple_from_triple('San Francisco', 'LOCATION_IN', 'Northern California r..., '\\nSan Francisco,[24] ...)\n"
          ]
        }
      ]
    },
    {
      "cell_type": "code",
      "source": [
        "df = pd.DataFrame(linked_triples, columns=['Subject', 'Predicate', 'Object'])\n",
        "\n",
        "# print(\"Extracted and Linked Triples:\")\n",
        "# print(df)\n",
        "\n",
        "df"
      ],
      "metadata": {
        "colab": {
          "base_uri": "https://localhost:8080/",
          "height": 449
        },
        "id": "eqkLYssCY5EN",
        "outputId": "eafab776-2104-4120-90a3-b4c060db508b"
      },
      "execution_count": null,
      "outputs": [
        {
          "output_type": "stream",
          "name": "stdout",
          "text": [
            "Extracted and Linked Triples:\n",
            "                                      Subject    Predicate  \\\n",
            "0  https://dbpedia.org/resource/San_Francisco  LOCATION_IN   \n",
            "1  https://dbpedia.org/resource/San_Francisco   POPULATION   \n",
            "2  https://dbpedia.org/resource/San_Francisco  LOCATION_IN   \n",
            "3     https://dbpedia.org/resource/California  LOCATION_IN   \n",
            "4  https://dbpedia.org/resource/San_Francisco  LOCATION_IN   \n",
            "\n",
            "                                              Object  \n",
            "0   https://dbpedia.org/resource/Northern_California  \n",
            "1  https://dbpedia.org/resource/List_of_cities_an...  \n",
            "2            https://dbpedia.org/resource/California  \n",
            "3         https://dbpedia.org/resource/United_States  \n",
            "4   https://dbpedia.org/resource/Northern_California  \n"
          ]
        },
        {
          "output_type": "execute_result",
          "data": {
            "text/plain": [
              "                                      Subject    Predicate  \\\n",
              "0  https://dbpedia.org/resource/San_Francisco  LOCATION_IN   \n",
              "1  https://dbpedia.org/resource/San_Francisco   POPULATION   \n",
              "2  https://dbpedia.org/resource/San_Francisco  LOCATION_IN   \n",
              "3     https://dbpedia.org/resource/California  LOCATION_IN   \n",
              "4  https://dbpedia.org/resource/San_Francisco  LOCATION_IN   \n",
              "\n",
              "                                              Object  \n",
              "0   https://dbpedia.org/resource/Northern_California  \n",
              "1  https://dbpedia.org/resource/List_of_cities_an...  \n",
              "2            https://dbpedia.org/resource/California  \n",
              "3         https://dbpedia.org/resource/United_States  \n",
              "4   https://dbpedia.org/resource/Northern_California  "
            ],
            "text/html": [
              "\n",
              "  <div id=\"df-421c2f6e-8dac-4b35-86fd-e4ae81433d75\" class=\"colab-df-container\">\n",
              "    <div>\n",
              "<style scoped>\n",
              "    .dataframe tbody tr th:only-of-type {\n",
              "        vertical-align: middle;\n",
              "    }\n",
              "\n",
              "    .dataframe tbody tr th {\n",
              "        vertical-align: top;\n",
              "    }\n",
              "\n",
              "    .dataframe thead th {\n",
              "        text-align: right;\n",
              "    }\n",
              "</style>\n",
              "<table border=\"1\" class=\"dataframe\">\n",
              "  <thead>\n",
              "    <tr style=\"text-align: right;\">\n",
              "      <th></th>\n",
              "      <th>Subject</th>\n",
              "      <th>Predicate</th>\n",
              "      <th>Object</th>\n",
              "    </tr>\n",
              "  </thead>\n",
              "  <tbody>\n",
              "    <tr>\n",
              "      <th>0</th>\n",
              "      <td>https://dbpedia.org/resource/San_Francisco</td>\n",
              "      <td>LOCATION_IN</td>\n",
              "      <td>https://dbpedia.org/resource/Northern_California</td>\n",
              "    </tr>\n",
              "    <tr>\n",
              "      <th>1</th>\n",
              "      <td>https://dbpedia.org/resource/San_Francisco</td>\n",
              "      <td>POPULATION</td>\n",
              "      <td>https://dbpedia.org/resource/List_of_cities_an...</td>\n",
              "    </tr>\n",
              "    <tr>\n",
              "      <th>2</th>\n",
              "      <td>https://dbpedia.org/resource/San_Francisco</td>\n",
              "      <td>LOCATION_IN</td>\n",
              "      <td>https://dbpedia.org/resource/California</td>\n",
              "    </tr>\n",
              "    <tr>\n",
              "      <th>3</th>\n",
              "      <td>https://dbpedia.org/resource/California</td>\n",
              "      <td>LOCATION_IN</td>\n",
              "      <td>https://dbpedia.org/resource/United_States</td>\n",
              "    </tr>\n",
              "    <tr>\n",
              "      <th>4</th>\n",
              "      <td>https://dbpedia.org/resource/San_Francisco</td>\n",
              "      <td>LOCATION_IN</td>\n",
              "      <td>https://dbpedia.org/resource/Northern_California</td>\n",
              "    </tr>\n",
              "  </tbody>\n",
              "</table>\n",
              "</div>\n",
              "    <div class=\"colab-df-buttons\">\n",
              "\n",
              "  <div class=\"colab-df-container\">\n",
              "    <button class=\"colab-df-convert\" onclick=\"convertToInteractive('df-421c2f6e-8dac-4b35-86fd-e4ae81433d75')\"\n",
              "            title=\"Convert this dataframe to an interactive table.\"\n",
              "            style=\"display:none;\">\n",
              "\n",
              "  <svg xmlns=\"http://www.w3.org/2000/svg\" height=\"24px\" viewBox=\"0 -960 960 960\">\n",
              "    <path d=\"M120-120v-720h720v720H120Zm60-500h600v-160H180v160Zm220 220h160v-160H400v160Zm0 220h160v-160H400v160ZM180-400h160v-160H180v160Zm440 0h160v-160H620v160ZM180-180h160v-160H180v160Zm440 0h160v-160H620v160Z\"/>\n",
              "  </svg>\n",
              "    </button>\n",
              "\n",
              "  <style>\n",
              "    .colab-df-container {\n",
              "      display:flex;\n",
              "      gap: 12px;\n",
              "    }\n",
              "\n",
              "    .colab-df-convert {\n",
              "      background-color: #E8F0FE;\n",
              "      border: none;\n",
              "      border-radius: 50%;\n",
              "      cursor: pointer;\n",
              "      display: none;\n",
              "      fill: #1967D2;\n",
              "      height: 32px;\n",
              "      padding: 0 0 0 0;\n",
              "      width: 32px;\n",
              "    }\n",
              "\n",
              "    .colab-df-convert:hover {\n",
              "      background-color: #E2EBFA;\n",
              "      box-shadow: 0px 1px 2px rgba(60, 64, 67, 0.3), 0px 1px 3px 1px rgba(60, 64, 67, 0.15);\n",
              "      fill: #174EA6;\n",
              "    }\n",
              "\n",
              "    .colab-df-buttons div {\n",
              "      margin-bottom: 4px;\n",
              "    }\n",
              "\n",
              "    [theme=dark] .colab-df-convert {\n",
              "      background-color: #3B4455;\n",
              "      fill: #D2E3FC;\n",
              "    }\n",
              "\n",
              "    [theme=dark] .colab-df-convert:hover {\n",
              "      background-color: #434B5C;\n",
              "      box-shadow: 0px 1px 3px 1px rgba(0, 0, 0, 0.15);\n",
              "      filter: drop-shadow(0px 1px 2px rgba(0, 0, 0, 0.3));\n",
              "      fill: #FFFFFF;\n",
              "    }\n",
              "  </style>\n",
              "\n",
              "    <script>\n",
              "      const buttonEl =\n",
              "        document.querySelector('#df-421c2f6e-8dac-4b35-86fd-e4ae81433d75 button.colab-df-convert');\n",
              "      buttonEl.style.display =\n",
              "        google.colab.kernel.accessAllowed ? 'block' : 'none';\n",
              "\n",
              "      async function convertToInteractive(key) {\n",
              "        const element = document.querySelector('#df-421c2f6e-8dac-4b35-86fd-e4ae81433d75');\n",
              "        const dataTable =\n",
              "          await google.colab.kernel.invokeFunction('convertToInteractive',\n",
              "                                                    [key], {});\n",
              "        if (!dataTable) return;\n",
              "\n",
              "        const docLinkHtml = 'Like what you see? Visit the ' +\n",
              "          '<a target=\"_blank\" href=https://colab.research.google.com/notebooks/data_table.ipynb>data table notebook</a>'\n",
              "          + ' to learn more about interactive tables.';\n",
              "        element.innerHTML = '';\n",
              "        dataTable['output_type'] = 'display_data';\n",
              "        await google.colab.output.renderOutput(dataTable, element);\n",
              "        const docLink = document.createElement('div');\n",
              "        docLink.innerHTML = docLinkHtml;\n",
              "        element.appendChild(docLink);\n",
              "      }\n",
              "    </script>\n",
              "  </div>\n",
              "\n",
              "\n",
              "<div id=\"df-11bc458b-6e09-41ae-b349-5d08fe202f5c\">\n",
              "  <button class=\"colab-df-quickchart\" onclick=\"quickchart('df-11bc458b-6e09-41ae-b349-5d08fe202f5c')\"\n",
              "            title=\"Suggest charts\"\n",
              "            style=\"display:none;\">\n",
              "\n",
              "<svg xmlns=\"http://www.w3.org/2000/svg\" height=\"24px\"viewBox=\"0 0 24 24\"\n",
              "     width=\"24px\">\n",
              "    <g>\n",
              "        <path d=\"M19 3H5c-1.1 0-2 .9-2 2v14c0 1.1.9 2 2 2h14c1.1 0 2-.9 2-2V5c0-1.1-.9-2-2-2zM9 17H7v-7h2v7zm4 0h-2V7h2v10zm4 0h-2v-4h2v4z\"/>\n",
              "    </g>\n",
              "</svg>\n",
              "  </button>\n",
              "\n",
              "<style>\n",
              "  .colab-df-quickchart {\n",
              "      --bg-color: #E8F0FE;\n",
              "      --fill-color: #1967D2;\n",
              "      --hover-bg-color: #E2EBFA;\n",
              "      --hover-fill-color: #174EA6;\n",
              "      --disabled-fill-color: #AAA;\n",
              "      --disabled-bg-color: #DDD;\n",
              "  }\n",
              "\n",
              "  [theme=dark] .colab-df-quickchart {\n",
              "      --bg-color: #3B4455;\n",
              "      --fill-color: #D2E3FC;\n",
              "      --hover-bg-color: #434B5C;\n",
              "      --hover-fill-color: #FFFFFF;\n",
              "      --disabled-bg-color: #3B4455;\n",
              "      --disabled-fill-color: #666;\n",
              "  }\n",
              "\n",
              "  .colab-df-quickchart {\n",
              "    background-color: var(--bg-color);\n",
              "    border: none;\n",
              "    border-radius: 50%;\n",
              "    cursor: pointer;\n",
              "    display: none;\n",
              "    fill: var(--fill-color);\n",
              "    height: 32px;\n",
              "    padding: 0;\n",
              "    width: 32px;\n",
              "  }\n",
              "\n",
              "  .colab-df-quickchart:hover {\n",
              "    background-color: var(--hover-bg-color);\n",
              "    box-shadow: 0 1px 2px rgba(60, 64, 67, 0.3), 0 1px 3px 1px rgba(60, 64, 67, 0.15);\n",
              "    fill: var(--button-hover-fill-color);\n",
              "  }\n",
              "\n",
              "  .colab-df-quickchart-complete:disabled,\n",
              "  .colab-df-quickchart-complete:disabled:hover {\n",
              "    background-color: var(--disabled-bg-color);\n",
              "    fill: var(--disabled-fill-color);\n",
              "    box-shadow: none;\n",
              "  }\n",
              "\n",
              "  .colab-df-spinner {\n",
              "    border: 2px solid var(--fill-color);\n",
              "    border-color: transparent;\n",
              "    border-bottom-color: var(--fill-color);\n",
              "    animation:\n",
              "      spin 1s steps(1) infinite;\n",
              "  }\n",
              "\n",
              "  @keyframes spin {\n",
              "    0% {\n",
              "      border-color: transparent;\n",
              "      border-bottom-color: var(--fill-color);\n",
              "      border-left-color: var(--fill-color);\n",
              "    }\n",
              "    20% {\n",
              "      border-color: transparent;\n",
              "      border-left-color: var(--fill-color);\n",
              "      border-top-color: var(--fill-color);\n",
              "    }\n",
              "    30% {\n",
              "      border-color: transparent;\n",
              "      border-left-color: var(--fill-color);\n",
              "      border-top-color: var(--fill-color);\n",
              "      border-right-color: var(--fill-color);\n",
              "    }\n",
              "    40% {\n",
              "      border-color: transparent;\n",
              "      border-right-color: var(--fill-color);\n",
              "      border-top-color: var(--fill-color);\n",
              "    }\n",
              "    60% {\n",
              "      border-color: transparent;\n",
              "      border-right-color: var(--fill-color);\n",
              "    }\n",
              "    80% {\n",
              "      border-color: transparent;\n",
              "      border-right-color: var(--fill-color);\n",
              "      border-bottom-color: var(--fill-color);\n",
              "    }\n",
              "    90% {\n",
              "      border-color: transparent;\n",
              "      border-bottom-color: var(--fill-color);\n",
              "    }\n",
              "  }\n",
              "</style>\n",
              "\n",
              "  <script>\n",
              "    async function quickchart(key) {\n",
              "      const quickchartButtonEl =\n",
              "        document.querySelector('#' + key + ' button');\n",
              "      quickchartButtonEl.disabled = true;  // To prevent multiple clicks.\n",
              "      quickchartButtonEl.classList.add('colab-df-spinner');\n",
              "      try {\n",
              "        const charts = await google.colab.kernel.invokeFunction(\n",
              "            'suggestCharts', [key], {});\n",
              "      } catch (error) {\n",
              "        console.error('Error during call to suggestCharts:', error);\n",
              "      }\n",
              "      quickchartButtonEl.classList.remove('colab-df-spinner');\n",
              "      quickchartButtonEl.classList.add('colab-df-quickchart-complete');\n",
              "    }\n",
              "    (() => {\n",
              "      let quickchartButtonEl =\n",
              "        document.querySelector('#df-11bc458b-6e09-41ae-b349-5d08fe202f5c button');\n",
              "      quickchartButtonEl.style.display =\n",
              "        google.colab.kernel.accessAllowed ? 'block' : 'none';\n",
              "    })();\n",
              "  </script>\n",
              "</div>\n",
              "\n",
              "  <div id=\"id_0755b131-2afb-47df-88e5-3998b42fed43\">\n",
              "    <style>\n",
              "      .colab-df-generate {\n",
              "        background-color: #E8F0FE;\n",
              "        border: none;\n",
              "        border-radius: 50%;\n",
              "        cursor: pointer;\n",
              "        display: none;\n",
              "        fill: #1967D2;\n",
              "        height: 32px;\n",
              "        padding: 0 0 0 0;\n",
              "        width: 32px;\n",
              "      }\n",
              "\n",
              "      .colab-df-generate:hover {\n",
              "        background-color: #E2EBFA;\n",
              "        box-shadow: 0px 1px 2px rgba(60, 64, 67, 0.3), 0px 1px 3px 1px rgba(60, 64, 67, 0.15);\n",
              "        fill: #174EA6;\n",
              "      }\n",
              "\n",
              "      [theme=dark] .colab-df-generate {\n",
              "        background-color: #3B4455;\n",
              "        fill: #D2E3FC;\n",
              "      }\n",
              "\n",
              "      [theme=dark] .colab-df-generate:hover {\n",
              "        background-color: #434B5C;\n",
              "        box-shadow: 0px 1px 3px 1px rgba(0, 0, 0, 0.15);\n",
              "        filter: drop-shadow(0px 1px 2px rgba(0, 0, 0, 0.3));\n",
              "        fill: #FFFFFF;\n",
              "      }\n",
              "    </style>\n",
              "    <button class=\"colab-df-generate\" onclick=\"generateWithVariable('df')\"\n",
              "            title=\"Generate code using this dataframe.\"\n",
              "            style=\"display:none;\">\n",
              "\n",
              "  <svg xmlns=\"http://www.w3.org/2000/svg\" height=\"24px\"viewBox=\"0 0 24 24\"\n",
              "       width=\"24px\">\n",
              "    <path d=\"M7,19H8.4L18.45,9,17,7.55,7,17.6ZM5,21V16.75L18.45,3.32a2,2,0,0,1,2.83,0l1.4,1.43a1.91,1.91,0,0,1,.58,1.4,1.91,1.91,0,0,1-.58,1.4L9.25,21ZM18.45,9,17,7.55Zm-12,3A5.31,5.31,0,0,0,4.9,8.1,5.31,5.31,0,0,0,1,6.5,5.31,5.31,0,0,0,4.9,4.9,5.31,5.31,0,0,0,6.5,1,5.31,5.31,0,0,0,8.1,4.9,5.31,5.31,0,0,0,12,6.5,5.46,5.46,0,0,0,6.5,12Z\"/>\n",
              "  </svg>\n",
              "    </button>\n",
              "    <script>\n",
              "      (() => {\n",
              "      const buttonEl =\n",
              "        document.querySelector('#id_0755b131-2afb-47df-88e5-3998b42fed43 button.colab-df-generate');\n",
              "      buttonEl.style.display =\n",
              "        google.colab.kernel.accessAllowed ? 'block' : 'none';\n",
              "\n",
              "      buttonEl.onclick = () => {\n",
              "        google.colab.notebook.generateWithVariable('df');\n",
              "      }\n",
              "      })();\n",
              "    </script>\n",
              "  </div>\n",
              "\n",
              "    </div>\n",
              "  </div>\n"
            ],
            "application/vnd.google.colaboratory.intrinsic+json": {
              "type": "dataframe",
              "variable_name": "df",
              "summary": "{\n  \"name\": \"df\",\n  \"rows\": 5,\n  \"fields\": [\n    {\n      \"column\": \"Subject\",\n      \"properties\": {\n        \"dtype\": \"category\",\n        \"num_unique_values\": 2,\n        \"samples\": [\n          \"https://dbpedia.org/resource/California\",\n          \"https://dbpedia.org/resource/San_Francisco\"\n        ],\n        \"semantic_type\": \"\",\n        \"description\": \"\"\n      }\n    },\n    {\n      \"column\": \"Predicate\",\n      \"properties\": {\n        \"dtype\": \"category\",\n        \"num_unique_values\": 2,\n        \"samples\": [\n          \"POPULATION\",\n          \"LOCATION_IN\"\n        ],\n        \"semantic_type\": \"\",\n        \"description\": \"\"\n      }\n    },\n    {\n      \"column\": \"Object\",\n      \"properties\": {\n        \"dtype\": \"string\",\n        \"num_unique_values\": 4,\n        \"samples\": [\n          \"https://dbpedia.org/resource/List_of_cities_and_towns_in_California\",\n          \"https://dbpedia.org/resource/United_States\"\n        ],\n        \"semantic_type\": \"\",\n        \"description\": \"\"\n      }\n    }\n  ]\n}"
            }
          },
          "metadata": {},
          "execution_count": 59
        }
      ]
    },
    {
      "cell_type": "code",
      "source": [],
      "metadata": {
        "id": "ps4cxcVlbvyq"
      },
      "execution_count": null,
      "outputs": []
    }
  ],
  "metadata": {
    "colab": {
      "provenance": []
    },
    "kernelspec": {
      "display_name": "Python 3",
      "name": "python3"
    },
    "language_info": {
      "name": "python"
    }
  },
  "nbformat": 4,
  "nbformat_minor": 0
}