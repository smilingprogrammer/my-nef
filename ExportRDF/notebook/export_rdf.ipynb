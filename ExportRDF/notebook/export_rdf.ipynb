{
  "nbformat": 4,
  "nbformat_minor": 0,
  "metadata": {
    "colab": {
      "provenance": []
    },
    "kernelspec": {
      "name": "python3",
      "display_name": "Python 3"
    },
    "language_info": {
      "name": "python"
    }
  },
  "cells": [
    {
      "cell_type": "code",
      "execution_count": null,
      "metadata": {
        "colab": {
          "base_uri": "https://localhost:8080/"
        },
        "id": "2W7U8YXgRr5J",
        "outputId": "a413fcf0-8c92-4be6-f5c9-2d15d5e78d03"
      },
      "outputs": [
        {
          "output_type": "stream",
          "name": "stdout",
          "text": [
            "Collecting rdflib\n",
            "  Downloading rdflib-7.0.0-py3-none-any.whl (531 kB)\n",
            "\u001b[2K     \u001b[90m━━━━━━━━━━━━━━━━━━━━━━━━━━━━━━━━━━━━━━━━\u001b[0m \u001b[32m531.9/531.9 kB\u001b[0m \u001b[31m6.7 MB/s\u001b[0m eta \u001b[36m0:00:00\u001b[0m\n",
            "\u001b[?25hCollecting isodate<0.7.0,>=0.6.0 (from rdflib)\n",
            "  Downloading isodate-0.6.1-py2.py3-none-any.whl (41 kB)\n",
            "\u001b[2K     \u001b[90m━━━━━━━━━━━━━━━━━━━━━━━━━━━━━━━━━━━━━━━━\u001b[0m \u001b[32m41.7/41.7 kB\u001b[0m \u001b[31m3.0 MB/s\u001b[0m eta \u001b[36m0:00:00\u001b[0m\n",
            "\u001b[?25hRequirement already satisfied: pyparsing<4,>=2.1.0 in /usr/local/lib/python3.10/dist-packages (from rdflib) (3.1.2)\n",
            "Requirement already satisfied: six in /usr/local/lib/python3.10/dist-packages (from isodate<0.7.0,>=0.6.0->rdflib) (1.16.0)\n",
            "Installing collected packages: isodate, rdflib\n",
            "Successfully installed isodate-0.6.1 rdflib-7.0.0\n"
          ]
        }
      ],
      "source": [
        "!pip install rdflib"
      ]
    },
    {
      "cell_type": "code",
      "source": [
        "triples_s0 = {\n",
        "    \"https://dbpedia.org/resource/Canada\": (\"http://dbpedia.org/ontology/participant\", \"https://dbpedia.org/resource/World_War_II\"),\n",
        "    \"https://dbpedia.org/resource/United_Kingdom\": (\"http://dbpedia.org/ontology/conflict\", \"https://dbpedia.org/resource/World_War_II\"),\n",
        "}"
      ],
      "metadata": {
        "id": "EkvPHTPaR8Tu"
      },
      "execution_count": null,
      "outputs": []
    },
    {
      "cell_type": "code",
      "source": [
        "from rdflib import Graph, URIRef"
      ],
      "metadata": {
        "id": "39uZqtU5SZut"
      },
      "execution_count": null,
      "outputs": []
    },
    {
      "cell_type": "code",
      "source": [
        "g = Graph()\n",
        "\n",
        "for s, (p, o) in triples_s0.items():\n",
        "    subject = URIRef(s)\n",
        "    predicate = URIRef(p)\n",
        "    object = URIRef(o)\n",
        "    g.add((subject, predicate, object))\n",
        "\n",
        "output_file = \"result.xml\"\n",
        "g.serialize(destination=output_file, format=\"xml\")\n",
        "\n",
        "print(f\"Triples have been exported to {output_file}\")"
      ],
      "metadata": {
        "colab": {
          "base_uri": "https://localhost:8080/"
        },
        "id": "xfYe2NvKSeja",
        "outputId": "4a87342c-9045-4c2c-b60e-021137dd505d"
      },
      "execution_count": null,
      "outputs": [
        {
          "output_type": "stream",
          "name": "stdout",
          "text": [
            "Triples have been exported to result.xml\n"
          ]
        }
      ]
    },
    {
      "cell_type": "code",
      "source": [],
      "metadata": {
        "id": "zwLHv8KoSogj"
      },
      "execution_count": null,
      "outputs": []
    }
  ]
}